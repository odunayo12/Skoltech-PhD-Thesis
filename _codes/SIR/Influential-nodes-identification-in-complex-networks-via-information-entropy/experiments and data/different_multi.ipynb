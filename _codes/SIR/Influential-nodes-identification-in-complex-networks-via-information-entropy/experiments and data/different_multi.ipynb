{
 "cells": [
  {
   "cell_type": "code",
   "execution_count": 1,
   "metadata": {},
   "outputs": [],
   "source": [
    "import collections\n",
    "import networkx as nx\n",
    "import sys\n",
    "import os\n",
    "sys.path.append(r\"C:\\Users\\Odunayo Rotimi\\Downloads\\Isaiah\\Skoltech-PhD-Thesis\\_codes\\SIR\\Influential-nodes-identification-in-complex-networks-via-information-entropy\")\n",
    "from algorithms import *\n",
    "import matplotlib.pyplot as plt\n",
    "import matplotlib.patches as patches\n",
    "import numpy as np\n",
    "from tqdm import tqdm\n",
    "import pickle"
   ]
  },
  {
   "cell_type": "code",
   "execution_count": 2,
   "metadata": {},
   "outputs": [
    {
     "name": "stdout",
     "output_type": "stream",
     "text": [
      "{'ABILENE': {'index': 0, 'nodes': 11, 'edges': 14}, 'ABVT': {'index': 1, 'nodes': 23, 'edges': 31}, 'AGIS': {'index': 2, 'nodes': 25, 'edges': 30}, 'ARN.GRAPHML': {'index': 3, 'nodes': 30, 'edges': 29}, 'BELLCANADA': {'index': 4, 'nodes': 48, 'edges': 64}, 'BELLSOUTH.GRAPHML': {'index': 5, 'nodes': 51, 'edges': 66}, 'BICS.GRAPHML': {'index': 6, 'nodes': 33, 'edges': 48}, 'CERNET.GRAPHML': {'index': 7, 'nodes': 41, 'edges': 58}, 'CESNET200706.GRAPHML': {'index': 8, 'nodes': 44, 'edges': 51}, 'CHINANET.GRAPHML': {'index': 9, 'nodes': 42, 'edges': 66}, 'COGENTCO.GRAPHML': {'index': 10, 'nodes': 197, 'edges': 243}, 'COLT.GRAPHML': {'index': 11, 'nodes': 153, 'edges': 177}, 'DELTACOM.GRAPHML': {'index': 12, 'nodes': 113, 'edges': 161}, 'GARR201110.GRAPHML': {'index': 13, 'nodes': 59, 'edges': 74}, 'GEANT2001': {'index': 14, 'nodes': 27, 'edges': 38}, 'GRNET.GRAPHML': {'index': 15, 'nodes': 37, 'edges': 42}, 'INTELLIFIBER.GRAPHML': {'index': 16, 'nodes': 73, 'edges': 95}, 'INTEROUTE.GRAPHML': {'index': 17, 'nodes': 110, 'edges': 148}, 'ION.GRAPHML': {'index': 18, 'nodes': 125, 'edges': 146}, 'JANETBACKBONE.GRAPHML': {'index': 19, 'nodes': 29, 'edges': 45}, 'KDL': {'index': 20, 'nodes': 754, 'edges': 895}, 'LATNET.GRAPHML': {'index': 21, 'nodes': 69, 'edges': 74}, 'MISSOURI.GRAPHML': {'index': 22, 'nodes': 67, 'edges': 83}, 'NET2': {'index': 23, 'nodes': 34, 'edges': 42}, 'NIIF.GRAPHML': {'index': 24, 'nodes': 36, 'edges': 41}, 'NOEL.GRAPHML': {'index': 25, 'nodes': 19, 'edges': 25}, 'PIONIERL3.GRAPHML': {'index': 26, 'nodes': 38, 'edges': 45}, 'REDIRIS.GRAPHML': {'index': 27, 'nodes': 19, 'edges': 31}, 'RENATER2010.GRAPHML': {'index': 28, 'nodes': 43, 'edges': 56}, 'RHNET.GRAPHML': {'index': 29, 'nodes': 16, 'edges': 18}, 'RNP.GRAPHML': {'index': 30, 'nodes': 31, 'edges': 34}, 'ROEDUNETFIBRE.GRAPHML': {'index': 31, 'nodes': 48, 'edges': 52}, 'SINET.GRAPHML': {'index': 32, 'nodes': 74, 'edges': 76}, 'SPRINT': {'index': 33, 'nodes': 11, 'edges': 18}, 'SUNET.GRAPHML': {'index': 34, 'nodes': 26, 'edges': 32}, 'SURFNET.GRAPHML': {'index': 35, 'nodes': 50, 'edges': 68}, 'SWITCHL3.GRAPHML': {'index': 36, 'nodes': 42, 'edges': 63}, 'TATANLD.GRAPHML': {'index': 37, 'nodes': 145, 'edges': 186}, 'TINET.GRAPHML': {'index': 38, 'nodes': 53, 'edges': 89}, 'ULAKNET.GRAPHML': {'index': 39, 'nodes': 82, 'edges': 82}, 'UNINETT2010.GRAPHML': {'index': 40, 'nodes': 74, 'edges': 101}, 'USCARRIER': {'index': 41, 'nodes': 158, 'edges': 189}, 'USCARRIER.GRAPHML': {'index': 42, 'nodes': 158, 'edges': 189}, 'UUNET.GRAPHML': {'index': 43, 'nodes': 49, 'edges': 84}}\n"
     ]
    }
   ],
   "source": [
    "graph_collections, graph_name = read_graph(\"./test-graphs\")"
   ]
  },
  {
   "cell_type": "code",
   "execution_count": 3,
   "metadata": {},
   "outputs": [],
   "source": [
    "G = graph_collections[1]\n",
    "# geo_loc_data = get_geo_data(\"Internet2LatLong.csv\")\n",
    "geo_loc_data = {k: {\"lat\": v.get('Latitude', 0), \"long\": v.get('Longitude', 0)}\n",
    "                for (k, v) in G.nodes(data=True)}\n",
    "# print(geo_loc_data)\n",
    "edge_geo_data_combined = assign_location(G, geo_loc_data)\n",
    "# set edge attributes\n",
    "set_edge_attr(G, edge_geo_data_combined)\n",
    "# G.edges(data=True)\n"
   ]
  },
  {
   "cell_type": "code",
   "execution_count": 4,
   "metadata": {},
   "outputs": [
    {
     "data": {
      "text/plain": [
       "{}"
      ]
     },
     "execution_count": 4,
     "metadata": {},
     "output_type": "execute_result"
    }
   ],
   "source": [
    "selection__=[0,2,4,23]# [37,41,20,0,14,4,1,2,10, 18, 8]\n",
    "\n",
    "gGrahps = selection__from_graph(graph_collections, graph_name)  # , selection__\n",
    "\n",
    "# print(gGrahps)\n",
    "# assign coordinates: Lat and Long\n",
    "geo_loc_data_sample = {i: {k: {\"lat\": v.get('Latitude', 0), \"long\": v.get('Longitude', 0)}\n",
    "     for (k, v) in g.nodes(data=True)} for i, g in gGrahps}\n",
    "# print(geo_loc_data_sample)\n",
    "\n",
    "edge_geo_data_sample = {k: assign_location(u, v) for (k, v), (j,u) in zip(geo_loc_data_sample.items(), gGrahps)}\n",
    "# print(geo_loc_data_sample)\n",
    "nx.get_edge_attributes(gGrahps[4][1], 'weight')\n"
   ]
  },
  {
   "cell_type": "code",
   "execution_count": 5,
   "metadata": {},
   "outputs": [],
   "source": [
    "# Obtain node strength to the desired degree: 1,2,3,...\n",
    "node_strength_2_deg = [(i, sum(hub_information(G, i, 2))) \n",
    "                       for (i, j) in sorted(list(G.degree()), key=lambda item: int(item[0]))]\n",
    "degree__ = [(i, len(n_neighbor(G, i, 1))) for (i, j) in sorted(list(G.degree()),\n",
    "                                                               key=lambda item: int(item[0]))]\n"
   ]
  },
  {
   "cell_type": "code",
   "execution_count": 6,
   "metadata": {},
   "outputs": [],
   "source": [
    "# test sources of evidences\n",
    "source_1, source_2, source_3, source_4, *others = degree__, node_strength_2_deg, betweenness_centrality(G, weight=\"weight\"), closeness_centrality(G)#, eccentricity(G),  approximate_current_flow_betweenness_centrality(G, weight=\"weight\"), current_flow_betweenness_centrality(G),   load_centrality(G),    #eigenvector_centrality(G),\n",
    "# 1 = degree,  node strength, betweenness, closeness\n",
    "# print(source_2, source_3)\n"
   ]
  },
  {
   "cell_type": "code",
   "execution_count": 7,
   "metadata": {},
   "outputs": [],
   "source": [
    "# [(i,j) for i,j in nx.core_number(gGrahps[14][1]).items()]\n",
    "# nx.core_number(gGrahps[0][1]).items()\n",
    "# list(nx.k_core(gGrahps[0][1]))#.items()"
   ]
  },
  {
   "cell_type": "code",
   "execution_count": 8,
   "metadata": {},
   "outputs": [
    {
     "name": "stderr",
     "output_type": "stream",
     "text": [
      "<class 'networkx.utils.decorators.argmap'> compilation 35:4: FutureWarning: laplacian_matrix will return a scipy.sparse array instead of a matrix in Networkx 3.0.\n"
     ]
    }
   ],
   "source": [
    "# combine sources of evidence into a single dictionary\n",
    "sources_of_evidences = {\n",
    "    \"Degree\": {g[0]: [(i, len(n_neighbor(g[1], i, 1))) for (i, j) in sorted(list(g[1].degree()), key=lambda item: int(item[0]))] for g in gGrahps},\n",
    "    \"Node Strength\": {g[0]: [(i, sum(hub_information(g[1], i, 2))) for (i, j) in sorted(list(g[1].degree()), key=lambda item: int(item[0]))] for g in gGrahps},\n",
    "    \"Eccentricity\": {g[0]: eccentricity(g[1]) for g in gGrahps},\n",
    "    \"Approx Curr. Flow Betwns Cent'y\": {g[0]: approximate_current_flow_betweenness_centrality(g[1]) for g in gGrahps},\n",
    "    \"Betweenness Centrality\": {g[0]: betweenness_centrality(g[1], weight=\"weight\") for g in gGrahps},\n",
    "    # \"K Core\": {g[0]: k_core((nx.selfloop_edges(g[1]))) for g in gGrahps},\n",
    "    \"Current Flow Betweenness Centrality\": {g[0]: current_flow_betweenness_centrality(g[1]) for g in gGrahps},\n",
    "    \"Load Centrality\": {g[0]: load_centrality(g[1]) for g in gGrahps}\n",
    "\n",
    "}\n",
    "# sources_of_evidences[\"Degree\"][\"ABILENE\"]\n"
   ]
  },
  {
   "cell_type": "code",
   "execution_count": 9,
   "metadata": {},
   "outputs": [
    {
     "data": {
      "text/plain": [
       "[('11', 0.9991533889283354),\n",
       " ('1', 0.8102800440940691),\n",
       " ('10', 0.43433003311276575),\n",
       " ('5', 0.3281087394193373)]"
      ]
     },
     "execution_count": 9,
     "metadata": {},
     "output_type": "execute_result"
    }
   ],
   "source": [
    "# test case\n",
    "e_v = 2\n",
    "varying_examples_multi(source_1, source_2, source_3, source_4,e_v)"
   ]
  },
  {
   "cell_type": "code",
   "execution_count": 10,
   "metadata": {},
   "outputs": [],
   "source": [
    "evis = [2,3,4]\n",
    "selected_nodes_based_on_source ={i:{e: varying_examples_multi(sources_of_evidences[\"Degree\"][i],\n",
    "sources_of_evidences[\"Node Strength\"][i], \n",
    "sources_of_evidences[\"Eccentricity\"][i], \n",
    "    sources_of_evidences[\"Approx Curr. Flow Betwns Cent'y\"][i], e) for e in evis} for i, j in gGrahps}\n",
    "# print(selected_nodes_based_on_source)\n",
    "\n",
    "selected_nodes_based_on_source_ext = {k2: {k: {x for x, y in sorted(v, key=lambda item: int(item[1]), reverse=True)} for k, v in v2.items()} for k2, v2 in selected_nodes_based_on_source.items()}\n",
    "# print(selected_nodes_based_on_source_ext)\n",
    "\n",
    "selected_nodes_based_on_source_ext_len = {k2:{k:len(v) for k,v in v2.items()} for k2,v2 in selected_nodes_based_on_source.items()}\n",
    "\n",
    "\n",
    "# {i: { \"#Nodes\":  nx.number_of_nodes(j), \"#Edges\": nx.number_of_edges(j), \"sel_\":v} for (i,j), v in zip(gGrahps, selected_nodes_based_on_source.values())}\n",
    "sel_node_summary={i: {\"Graph Name\":i, \"#Nodes\":  nx.number_of_nodes(j), \"#Edges\": nx.number_of_edges(j), \"Diameter\":nx.diameter(j), \"Density\":nx.density(j)}for (i, j)in gGrahps }\n",
    "# print(sel_node_summary)\n",
    "sel_to_table = {\n",
    "    i: (sel_node_summary[i] | selected_nodes_based_on_source_ext[i]) for i, j in gGrahps}\n",
    "    \n",
    "\n"
   ]
  },
  {
   "cell_type": "code",
   "execution_count": 11,
   "metadata": {},
   "outputs": [],
   "source": [
    "sel_node_table = pd.DataFrame.from_dict(\n",
    "    sel_to_table, orient='index')\n",
    "# print()\n",
    "# sel_node_table.to_csv('sel_node_table_w_DSIndex.csv', index=False)\n"
   ]
  },
  {
   "cell_type": "code",
   "execution_count": 12,
   "metadata": {},
   "outputs": [
    {
     "name": "stderr",
     "output_type": "stream",
     "text": [
      "100%|██████████| 44/44 [00:02<00:00, 21.86it/s]\n"
     ]
    }
   ],
   "source": [
    "clusters__ = {\n",
    "    k2: {\n",
    "        k: cluster_optimal_nodes_test(j, v) for k, v in v2.items()\n",
    "        }  \n",
    "        for (i, j), (k2, v2) in zip(\n",
    "            tqdm(gGrahps), \n",
    "            selected_nodes_based_on_source.items()\n",
    "        ) \n",
    "}\n"
   ]
  },
  {
   "cell_type": "code",
   "execution_count": 15,
   "metadata": {},
   "outputs": [],
   "source": [
    "# pd.DataFrame.from_dict(clusters__, orient='index')\n",
    "controller_switch_id = pd.DataFrame.from_records(\n",
    "    [\n",
    "        (l1, l2, l3, leaf1)\n",
    "        for l1, l2_dict in clusters__.items()\n",
    "        for l2, l3_dict in l2_dict.items()\n",
    "        for l3, j in l3_dict.items()\n",
    "        for leaf1 in j\n",
    "    ],\n",
    "    columns=\n",
    "    [\n",
    "        'Graph Name',\n",
    "        'No of sources of Evidences',\n",
    "        'Controller',\n",
    "        'Allocated Switch'\n",
    "    ]\n",
    ")\n",
    "controller_switch_id.to_csv('controller_switch_id.csv', index=False)\n"
   ]
  },
  {
   "cell_type": "code",
   "execution_count": null,
   "metadata": {},
   "outputs": [],
   "source": [
    "clusters__\n",
    "# controller_switch_id\n"
   ]
  },
  {
   "cell_type": "markdown",
   "metadata": {},
   "source": [
    "##### Ranking in Clusters"
   ]
  },
  {
   "cell_type": "code",
   "execution_count": 52,
   "metadata": {},
   "outputs": [
    {
     "name": "stderr",
     "output_type": "stream",
     "text": [
      "100%|██████████| 44/44 [00:14<00:00,  2.98it/s]\n"
     ]
    }
   ],
   "source": [
    "cluster__and_rank={\n",
    "    k2: {f'Rank {f}':{\n",
    "        k: cluster_optimal_nodes_test(j, v, is_filtered=True, filter_rank=f) for k, v in v2.items()\n",
    "    }for f in list(range(1, 6))}\n",
    "    for (i, j), (k2, v2) in zip(\n",
    "        tqdm(gGrahps),\n",
    "        selected_nodes_based_on_source.items()\n",
    "    )\n",
    "}\n"
   ]
  },
  {
   "cell_type": "code",
   "execution_count": 58,
   "metadata": {},
   "outputs": [],
   "source": [
    "controller_switch_id_ranked=pd.DataFrame.from_records(\n",
    "    [\n",
    "        (l1, l2, l3, l4, leaf1)\n",
    "        for l1, l2_dict in cluster__and_rank.items()\n",
    "        for l2, l3_dict in l2_dict.items()\n",
    "        for l3, l4_dict in l3_dict.items()\n",
    "        for l4, j in l4_dict.items()\n",
    "        for leaf1 in j\n",
    "    ],\n",
    "    columns=[\n",
    "        'Graph Name',\n",
    "        'Rank',\n",
    "        'No of sources of Evidences',\n",
    "        'Controller',\n",
    "        'Allocated Switch'\n",
    "    ]\n",
    ")\n",
    "# controller_switch_id_ranked.head(25)\n",
    "controller_switch_id.to_csv('controller_switch_id_ranked.csv', index=False)\n"
   ]
  },
  {
   "cell_type": "markdown",
   "metadata": {},
   "source": [
    "#### Misc"
   ]
  },
  {
   "cell_type": "code",
   "execution_count": 17,
   "metadata": {},
   "outputs": [],
   "source": [
    "# save clusters to csv\n",
    "selected_nodes_optimal = {k3:{k2:{k for k,v in v2.items() }for k2,v2 in v3.items()} for k3,v3 in clusters__.items()}\n",
    "sel_to_table_optimal = {i: (sel_node_summary[i] | selected_nodes_optimal[i]) for i, j in gGrahps}\n",
    "\n",
    "sel_node_table_optimal = pd.DataFrame.from_dict(sel_to_table_optimal, orient='index')\n",
    "# print()\n",
    "# sel_node_table_optimal.to_csv('sel_node_table_optimal.csv', index=False)\n"
   ]
  },
  {
   "cell_type": "code",
   "execution_count": 18,
   "metadata": {},
   "outputs": [],
   "source": [
    "# sel_to_table_optimal\n",
    "# sel_node_table_optimal\n"
   ]
  },
  {
   "cell_type": "code",
   "execution_count": 19,
   "metadata": {},
   "outputs": [
    {
     "data": {
      "text/plain": [
       "[{2: {'8': {'5', '7'}, '9': {'0', '2'}, '10': {'1'}, '6': {'3', '4'}}},\n",
       " {3: {'7': {'10', '5', '8'}, '1': {'0'}, '2': {'9'}, '6': {'3', '4'}}},\n",
       " {4: {'7': {'1', '10', '3', '6', '8'}, '2': {'0', '9'}, '5': {'4'}}}]"
      ]
     },
     "execution_count": 19,
     "metadata": {},
     "output_type": "execute_result"
    }
   ],
   "source": [
    "[{x:cluster_optimal_nodes_test(\n",
    "    gGrahps[0][1], selected_nodes_based_on_source[\"ABILENE\"][x])}for x in [2, 3, 4]]\n"
   ]
  },
  {
   "cell_type": "code",
   "execution_count": 20,
   "metadata": {},
   "outputs": [],
   "source": [
    "\n",
    "clusters__dict = { c: {e: {i: set([i]) | j for i, j in f.items()} for e, f in d.items()} for c, d in clusters__.items()}\n",
    "\n",
    "# print(clusters__dict)\n",
    "clusters__pair ={x: {e: {u: k for (k, v) in f.items() for u in v} for e, f in y.items()} for x, y in clusters__dict.items()}\n",
    "# clusters__pair\n",
    "# https://networkx.org/documentation/stable/reference/generated/networkx.classes.function.set_node_attributes.html\n"
   ]
  },
  {
   "cell_type": "code",
   "execution_count": 21,
   "metadata": {},
   "outputs": [
    {
     "data": {
      "text/plain": [
       "23"
      ]
     },
     "execution_count": 21,
     "metadata": {},
     "output_type": "execute_result"
    }
   ],
   "source": [
    "G = graph_collections[1]\n",
    "__rand = nx.number_of_nodes(G)\n",
    "nx.number_of_nodes(G)\n"
   ]
  },
  {
   "cell_type": "code",
   "execution_count": 22,
   "metadata": {},
   "outputs": [],
   "source": [
    "# [[plot_optimal_cluster(v2,g,k,k2) for k2, v2 in v.items()] for (n,g), (k,v) in zip(tqdm(gGrahps),clusters__pair_small.items())]\n"
   ]
  },
  {
   "cell_type": "markdown",
   "metadata": {},
   "source": [
    "#### Plot"
   ]
  },
  {
   "cell_type": "code",
   "execution_count": 23,
   "metadata": {},
   "outputs": [],
   "source": [
    "def plot_optimal_cluster_test(graph_clusters, g, title, evi, filter_rank=1000):\n",
    "    \n",
    "    len_renadom = len(graph_clusters)\n",
    "    random_colors = color_generator(len_renadom)\n",
    "    respective_colors = {k:v for  k,v in random_colors.items() if k in set(graph_clusters.values())}\n",
    "    handles__ = [patches.Patch(color=v, label=k) for k, v in respective_colors.items()]\n",
    "    graph_clusters = dict(\n",
    "        sorted(graph_clusters.items(), key=lambda x: int(x[0])))\n",
    "    # print(len(graph_clusters))\n",
    "    values = [random_colors.get(v, \"#000000\")\n",
    "              for k, v in graph_clusters.items()]\n",
    "    pos = nx.spring_layout(g)\n",
    "    nx.draw(g, cmap=plt.get_cmap('viridis'), pos=pos, node_color=values,\n",
    "            with_labels=True, font_color='white')\n",
    "    \n",
    "    title = title.split(\".\")[0]\n",
    "    plt.suptitle(f\"Graph: {title} \\n Sources of Evidences: {evi}, #Nodes: {nx.number_of_nodes(g)}, #Edges: {nx.number_of_edges(g)}, #Controllers: {len(set(graph_clusters.values()))}\",\n",
    "                 fontsize=10, y=0.95)  # f\"{title}_{evi}\"\n",
    "    plt.legend(handles=handles__)\n",
    "    dirpath = Path(f\"{Path().absolute()}\\images\\{title}\") if (filter_rank == 1000) else Path(f\"{Path().absolute()}\\images_{filter_rank}\\{title}\")\n",
    "    os.makedirs(dirpath, exist_ok=True) \n",
    "    plt.savefig(Path(f\"{dirpath}\\{title.lower()}_{evi}.png\"))\n",
    "    # plt.show()\n",
    "    plt.close()\n",
    "    return \"Done\"\n",
    "\n"
   ]
  },
  {
   "cell_type": "code",
   "execution_count": 24,
   "metadata": {},
   "outputs": [],
   "source": [
    "# [[[plot_optimal_cluster_test(v2, g, k, k2,t) for k2, v2 in v.items()] for (\n",
    "#     n, g), (k, v) in zip(tqdm(gGrahps), clusters__pair.items())] for t in [2,3,4]]\n",
    "# [[plot_optimal_cluster_test(v2, g, k, k2) for k2, v2 in v.items()] for (\n",
    "#     n, g), (k, v) in zip(tqdm(gGrahps), clusters__pair.items())]\n",
    "# os.startfile(r\"C:/Users/rotim/Music/Yoruba/SOLA ALLYSON - ÌSÌN.mp3\")\n"
   ]
  },
  {
   "cell_type": "code",
   "execution_count": 25,
   "metadata": {},
   "outputs": [],
   "source": [
    "# [(node, data) for node, data in G.nodes(data=True)]\n",
    "node_strength_2_deg = [(i, sum(hub_information(G, i, 2)))\n",
    "                       for (i, j) in sorted(list(G.degree()), key=lambda item: int(item[0]))]\n",
    "degree__ = [(i, len(n_neighbor(G, i, 1))) for (i, j) in sorted(list(G.degree()),\n",
    "                                                               key=lambda item: int(item[0]))]\n"
   ]
  },
  {
   "cell_type": "code",
   "execution_count": 26,
   "metadata": {},
   "outputs": [
    {
     "data": {
      "text/plain": [
       "{'11': {'13', '14', '15', '16', '17', '18', '19', '21', '22'},\n",
       " '1': {'4', '6', '8', '9'},\n",
       " '0': {'7'},\n",
       " '2': {'10', '20', '3'},\n",
       " '5': {'12'}}"
      ]
     },
     "execution_count": 26,
     "metadata": {},
     "output_type": "execute_result"
    }
   ],
   "source": [
    "cluster_optimal_nodes_test(\n",
    "    gGrahps[1][1], selected_nodes_based_on_source[\"ABVT\"][4])\n"
   ]
  },
  {
   "cell_type": "code",
   "execution_count": 27,
   "metadata": {},
   "outputs": [
    {
     "data": {
      "text/plain": [
       "{'11': {'13', '14', '15', '16', '17', '18', '19', '21', '22'},\n",
       " '1': {'4', '6', '8', '9'},\n",
       " '0': {'7'},\n",
       " '2': {'10', '20', '3'},\n",
       " '5': {'12'}}"
      ]
     },
     "execution_count": 27,
     "metadata": {},
     "output_type": "execute_result"
    }
   ],
   "source": [
    "G = gGrahps[1][1] #graph_collections[1]\n",
    "sample__ = cluster_optimal_nodes_test(G, selected_nodes_based_on_source[\"ABVT\"][4])\n",
    "sample__"
   ]
  },
  {
   "cell_type": "code",
   "execution_count": 28,
   "metadata": {},
   "outputs": [
    {
     "name": "stdout",
     "output_type": "stream",
     "text": [
      "{'11': {'19', '13', '18', '14', '22', '17', '15', '16', '21'}, '1': {'9', '6', '8', '4'}, '0': {'7'}, '2': {'20', '3', '10'}, '5': {'12'}}\n",
      "[('11', {'19', '13', '18', '14', '22', '17', '15', '16', '21'}), ('1', {'9', '6', '8', '4'}), ('2', {'20', '3', '10'})]\n"
     ]
    }
   ],
   "source": [
    "# new_opti_rank_2\n",
    "# Get the desired number of controllers from a sorted controller-switch allocation                                                    \n",
    "sample__filtered = {k: v for k, v in [x for x in sorted(sample__.items(), key=lambda item: len(item[1]), reverse=True)][:3]}\n",
    "print(sample__)\n",
    "# factor_set\n",
    "current_set_result_all = [(i,j) for i,j in sample__filtered.items()]\n",
    "print(current_set_result_all)\n",
    "# empty_controllers\n",
    "empty_controllers = set().union(*[(set([i]).union(j)) for i, j in sample__.items() if i not in sample__filtered.keys()])\n",
    "\n",
    "# residuals_controllers\n"
   ]
  },
  {
   "cell_type": "code",
   "execution_count": 29,
   "metadata": {},
   "outputs": [
    {
     "data": {
      "text/plain": [
       "{'11': {'13', '15', '16', '17', '18', '21', '22'},\n",
       " '1': {'4', '6', '7', '8', '9'},\n",
       " '10': {'14', '19', '2', '20', '3'},\n",
       " '5': {'0', '12'}}"
      ]
     },
     "execution_count": 29,
     "metadata": {},
     "output_type": "execute_result"
    }
   ],
   "source": [
    "\n",
    "\n",
    "cluster_optimal_nodes_test(\n",
    "    G, selected_nodes_based_on_source[\"ABVT\"][2], is_filtered=True, filter_rank = 5)  #\n"
   ]
  },
  {
   "cell_type": "code",
   "execution_count": 30,
   "metadata": {},
   "outputs": [],
   "source": [
    "# from numpy import sort\n",
    "\n",
    "\n",
    "def dynamic_static_cont_selector(gGrahps, clusters__, a=\"\", is_dynamic=False, filter_rank=1000):\n",
    "\n",
    "    average_case_c_s = {k3: {k2: {k1: sum(nx.shortest_path_length(j[1], k1, v, weight='weight') for v in v1)/ (nx.number_of_nodes(j[1])-len(v2)) for k1, v1 in v2.items()} for k2, v2 in v3.items()} for j, (k3, v3) in zip(gGrahps, clusters__.items())if k3 == j[0]}\n",
    "    worst_case_c_s = {k3: {k2: {k1: max(nx.shortest_path_length(j[1], k1, v, weight='weight') for v in v1) for k1, v1 in v2.items(\n",
    "    )} for k2, v2 in v3.items()} for j, (k3, v3) in zip(gGrahps, clusters__.items())if k3 == j[0]}  \n",
    "    average_c_c = {k3: {k2: {k1: set(v2.keys())-set([k1]) for k1 in v2.keys()} for k2, v2 in v3.items()} for k3, v3 in clusters__.items()}\n",
    "    average_case_c_c = {k3: {k2: {k1: 2*sum(nx.shortest_path_length(j[1], k1, v, weight='weight') for v in v1) / (len(v2)**2-len(v2))\n",
    "           for k1, v1 in v2.items()} for k2, v2 in v3.items()} for j, (k3, v3) in zip(gGrahps, average_c_c.items())if k3 == j[0]}\n",
    "    worst_case_c_c = {k3: {k2: {k1: max(nx.shortest_path_length(j[1], k1, v, weight='weight') for v in v1) for k1, v1 in v2.items()} for k2, v2 in v3.items()} for j, (k3, v3) in zip(gGrahps, average_c_c.items())if k3 == j[0]}\n",
    "    \n",
    "    all_={\"ACCC\": (average_case_c_c,\"Average\", \"Controller\"),\"ACCS\": (average_case_c_s,\"Average\", \"Switch\"),\"WCCC\": (worst_case_c_c,\"Worst\", \"Controller\"),\"WCCS\": (worst_case_c_s,\"Worst\", \"Switch\")}\n",
    "    if is_dynamic:\n",
    "        # print(average_case_c_s)\n",
    "        all_lists=[average_case_c_c,\n",
    "         average_case_c_s,\n",
    "         worst_case_c_c,\n",
    "         worst_case_c_s, ]\n",
    "        def sort_func(filter_rank, case_name):\n",
    "            return {k3: {k2: dict(sorted(v3[k2].items(), key=lambda item: item[1])[:filter_rank]) for k2, v2 in v3.items()}\n",
    "                    for (k3, v3) in case_name.items()}\n",
    "\n",
    "        sorted_ranks_ACCC = {\"ACCC\": sort_func(filter_rank, average_case_c_c)}\n",
    "        sorted_ranks_ACCS = {\"ACCS\": sort_func(filter_rank, average_case_c_s)}\n",
    "        sorted_ranks_WCCC = {\"WCCC\": sort_func(filter_rank, worst_case_c_c)}\n",
    "        sorted_ranks_WCCS = {\"WCCS\": sort_func(filter_rank, worst_case_c_s)}\n",
    "\n",
    "        dynamic_sort = {            k: sort_func(filter_rank, v[0]) for k, v in all_.items()        }\n",
    "        # dynamic_sort\n",
    "        # [sort_func(filter_rank, a) for a in all_lists]\n",
    "        return sorted_ranks_ACCC, sorted_ranks_ACCS, sorted_ranks_WCCC, sorted_ranks_WCCS\n",
    "\n",
    "         \n",
    "    match a:\n",
    "        case \"ACCC\":\n",
    "            save_cases_as_csv(all_[\"ACCC\"][0], all_[\"ACCC\"][1], all_[\"ACCC\"][2])\n",
    "            return average_case_c_c\n",
    "        case \"ACCS\":\n",
    "            save_cases_as_csv(all_[\"ACCS\"][0], all_[\"ACCS\"][1], all_[\"ACCS\"][2])\n",
    "            return average_case_c_s\n",
    "        case \"WCCC\":\n",
    "            save_cases_as_csv(all_[\"WCCC\"][0], all_[\"WCCC\"][1], all_[\"WCCC\"][2])\n",
    "            return worst_case_c_c\n",
    "        case \"WCCS\":\n",
    "            save_cases_as_csv(all_[\"WCCS\"][0], all_[\"WCCS\"][1], all_[\"WCCS\"][2])\n",
    "            return worst_case_c_s\n",
    "        case _:\n",
    "            for k,v in all_.items():\n",
    "                save_cases_as_csv(v[0], v[1], v[2])\n",
    "            return {\n",
    "                \"ACCC\": average_case_c_c,\n",
    "                \"ACCS\": average_case_c_s,\n",
    "                \"WCCC\": worst_case_c_c,\n",
    "                \"WCCS\": worst_case_c_s\n",
    "            }\n"
   ]
  },
  {
   "cell_type": "code",
   "execution_count": 31,
   "metadata": {},
   "outputs": [
    {
     "data": {
      "text/plain": [
       "({'ACCC': {'ABILENE': {2: {'8': 0.8333333333333334, '9': 0.8333333333333334},\n",
       "    3: {'7': 1.0, '1': 1.1666666666666667},\n",
       "    4: {'7': 1.6666666666666667, '5': 1.6666666666666667}},\n",
       "   'ABVT': {2: {'1': 25.292833333333334, '10': 28.478333333333335},\n",
       "    3: {'10': 11.638499999999999, '7': 11.6385},\n",
       "    4: {'1': 14.5348, '0': 14.799000000000001}},\n",
       "   'AGIS': {2: {'9': 0.7, '19': 0.8},\n",
       "    3: {'5': 0.7333333333333333, '9': 0.7333333333333333},\n",
       "    4: {'6': 0.7, '3': 0.8}},\n",
       "   'ARN.GRAPHML': {2: {'22': 0.6666666666666666, '8': 1.0},\n",
       "    3: {'8': 3.0, '4': 3.0},\n",
       "    4: {'7': 2.0, '29': 2.3333333333333335}},\n",
       "   'BELLCANADA': {2: {'33': 0.6181818181818182, '31': 0.6363636363636364},\n",
       "    3: {'33': 0.8333333333333334, '27': 0.9166666666666666},\n",
       "    4: {'12': 0.8222222222222222, '33': 0.8222222222222222}},\n",
       "   'BELLSOUTH.GRAPHML': {2: {'35': 0.6666666666666666,\n",
       "     '31': 0.6666666666666666},\n",
       "    3: {'31': 1.0666666666666667, '15': 1.2},\n",
       "    4: {'49': 0.4222222222222222, '31': 0.4222222222222222}},\n",
       "   'BICS.GRAPHML': {2: {'19': 0.42857142857142855, '14': 0.42857142857142855},\n",
       "    3: {'13': 0.7142857142857143, '20': 0.7619047619047619},\n",
       "    4: {'19': 0.5, '13': 0.5357142857142857}},\n",
       "   'CERNET.GRAPHML': {2: {'21': 0.5, '24': 0.6666666666666666},\n",
       "    3: {'20': 0.7857142857142857, '26': 0.8571428571428571},\n",
       "    4: {'20': 0.6388888888888888, '32': 0.6666666666666666}},\n",
       "   'CESNET200706.GRAPHML': {2: {'40': 0.5, '7': 0.6666666666666666},\n",
       "    3: {'7': 0.5555555555555556, '43': 0.5833333333333334},\n",
       "    4: {'43': 0.8, '12': 0.9333333333333333}},\n",
       "   'CHINANET.GRAPHML': {2: {'39': 0.2857142857142857, '8': 0.2857142857142857},\n",
       "    3: {'8': 0.4444444444444444, '18': 0.4444444444444444},\n",
       "    4: {'8': 0.4, '25': 0.6}},\n",
       "   'COGENTCO.GRAPHML': {2: {'154': 1.0357142857142858,\n",
       "     '183': 1.1071428571428572},\n",
       "    3: {'77': 0.6078431372549019, '183': 0.6209150326797386},\n",
       "    4: {'183': 0.45454545454545453, '75': 0.4805194805194805}},\n",
       "   'COLT.GRAPHML': {2: {'138': 2.0, '140': 2.0},\n",
       "    3: {'139': 0.3286290322580645, '123': 0.3487903225806452},\n",
       "    4: {'12': 0.5947368421052631, '54': 0.6052631578947368}},\n",
       "   'DELTACOM.GRAPHML': {2: {'60': 0.6, '47': 0.7},\n",
       "    3: {'3': 0.5555555555555556, '47': 0.6111111111111112},\n",
       "    4: {'3': 0.6388888888888888, '47': 0.6388888888888888}},\n",
       "   'GARR201110.GRAPHML': {2: {'53': 0.5, '14': 0.6},\n",
       "    3: {'14': 0.41025641025641024, '33': 0.46153846153846156},\n",
       "    4: {'57': 0.75, '55': 0.8055555555555556}},\n",
       "   'GEANT2001': {2: {'3': 0.5, '2': 0.6},\n",
       "    3: {'19': 0.8, '20': 0.8},\n",
       "    4: {'26': 0.8666666666666667, '17': 1.0}},\n",
       "   'GRNET.GRAPHML': {2: {'20': 0.3333333333333333, '30': 0.5333333333333333},\n",
       "    3: {'26': 1.5, '5': 1.6666666666666667},\n",
       "    4: {'26': 1.0666666666666667, '9': 1.1333333333333333}},\n",
       "   'INTELLIFIBER.GRAPHML': {2: {'44': 0.4909090909090909,\n",
       "     '23': 0.5272727272727272},\n",
       "    3: {'16': 0.5384615384615384, '5': 0.5604395604395604},\n",
       "    4: {'16': 0.5047619047619047, '46': 0.5047619047619047}},\n",
       "   'INTEROUTE.GRAPHML': {2: {'16': 0.38, '52': 0.38666666666666666},\n",
       "    3: {'16': 0.38095238095238093, '52': 0.3941798941798942},\n",
       "    4: {'52': 0.4766666666666667, '56': 0.48333333333333334}},\n",
       "   'ION.GRAPHML': {2: {'74': 0.7157894736842105, '117': 0.7368421052631579},\n",
       "    3: {'74': 0.6333333333333333, '18': 0.6366666666666667},\n",
       "    4: {'59': 0.6233333333333333, '18': 0.6266666666666667}},\n",
       "   'JANETBACKBONE.GRAPHML': {2: {'13': 0.5, '12': 0.6},\n",
       "    3: {'14': 0.6071428571428571, '25': 0.7857142857142857},\n",
       "    4: {'14': 0.5, '28': 0.5714285714285714}},\n",
       "   'KDL': {2: {'201': 0.44495837187789083, '408': 0.45050878815911194},\n",
       "    3: {'201': 0.23683473389355741, '408': 0.23753501400560223},\n",
       "    4: {'201': 0.23445378151260504, '408': 0.2357142857142857}},\n",
       "   'LATNET.GRAPHML': {2: {'30': 0.5, '42': 0.8333333333333334},\n",
       "    3: {'6': 0.6909090909090909, '56': 0.6909090909090909},\n",
       "    4: {'48': 0.9, '42': 0.9}},\n",
       "   'MISSOURI.GRAPHML': {2: {'4': 0.41830065359477125,\n",
       "     '62': 0.41830065359477125},\n",
       "    3: {'14': 0.47619047619047616, '11': 0.4857142857142857},\n",
       "    4: {'41': 0.5054945054945055, '30': 0.5054945054945055}},\n",
       "   'NET2': {2: {'3': 0.6444444444444445, '24': 0.6444444444444445},\n",
       "    3: {'24': 0.7222222222222222, '3': 0.75},\n",
       "    4: {'24': 0.7222222222222222, '3': 0.75}},\n",
       "   'NIIF.GRAPHML': {2: {'32': 1.0, '23': 1.0},\n",
       "    3: {'25': 1.1, '19': 1.3},\n",
       "    4: {'31': 0.8571428571428571, '24': 1.0}},\n",
       "   'NOEL.GRAPHML': {2: {'15': 0.6, '9': 0.6},\n",
       "    3: {'2': 1.1, '3': 1.2},\n",
       "    4: {'2': 0.6666666666666666, '15': 0.6666666666666666}},\n",
       "   'PIONIERL3.GRAPHML': {2: {'34': 0.5, '0': 0.6666666666666666},\n",
       "    3: {'6': 0.8, '20': 0.9333333333333333},\n",
       "    4: {'0': 0.5, '6': 0.7}},\n",
       "   'REDIRIS.GRAPHML': {2: {'16': 0.3333333333333333, '7': 0.5333333333333333},\n",
       "    3: {'12': 0.5714285714285714, '8': 0.7619047619047619},\n",
       "    4: {'6': 1.5, '13': 1.5}},\n",
       "   'RENATER2010.GRAPHML': {2: {'32': 0.6666666666666666, '31': 1.0},\n",
       "    3: {'30': 1.3333333333333333, '5': 1.5},\n",
       "    4: {'2': 1.0, '32': 1.3333333333333333}},\n",
       "   'RHNET.GRAPHML': {2: {'10': 0.6, '9': 0.7},\n",
       "    3: {'1': 1.3333333333333333, '9': 1.3333333333333333},\n",
       "    4: {'1': 1.3333333333333333, '9': 1.3333333333333333}},\n",
       "   'RNP.GRAPHML': {2: {'5': 0.6666666666666666, '16': 0.6666666666666666},\n",
       "    3: {'5': 0.7619047619047619, '4': 0.9047619047619048},\n",
       "    4: {'5': 1.2, '4': 1.3}},\n",
       "   'ROEDUNETFIBRE.GRAPHML': {2: {'4': 0.8095238095238095,\n",
       "     '16': 0.8095238095238095},\n",
       "    3: {'16': 0.7142857142857143, '4': 0.7619047619047619},\n",
       "    4: {'16': 0.7142857142857143, '4': 0.7619047619047619}},\n",
       "   'SINET.GRAPHML': {2: {'35': 0.6, '34': 0.7},\n",
       "    3: {'66': 0.8214285714285714, '18': 0.8214285714285714},\n",
       "    4: {'66': 0.8928571428571429, '50': 0.8928571428571429}},\n",
       "   'SPRINT': {2: {'4': 0.6666666666666666, '10': 1.0},\n",
       "    3: {'3': 2.0, '1': 2.3333333333333335},\n",
       "    4: {'10': 1.3333333333333333, '9': 1.3333333333333333}},\n",
       "   'SUNET.GRAPHML': {2: {'16': 1.0, '2': 1.0666666666666667},\n",
       "    3: {'16': 1.2, '1': 1.3},\n",
       "    4: {'17': 1.6666666666666667, '9': 1.6666666666666667}},\n",
       "   'SURFNET.GRAPHML': {2: {'8': 0.5, '30': 0.6666666666666666},\n",
       "    3: {'8': 0.43636363636363634, '38': 0.4727272727272727},\n",
       "    4: {'8': 0.42857142857142855, '1': 0.5}},\n",
       "   'SWITCHL3.GRAPHML': {2: {'35': 0.39285714285714285,\n",
       "     '7': 0.39285714285714285},\n",
       "    3: {'34': 0.8666666666666667, '33': 0.9333333333333333},\n",
       "    4: {'41': 0.5555555555555556, '28': 0.6222222222222222}},\n",
       "   'TATANLD.GRAPHML': {2: {'98': 0.5238095238095238, '97': 0.5380952380952381},\n",
       "    3: {'71': 0.4980237154150198, '95': 0.5019762845849802},\n",
       "    4: {'71': 0.5523809523809524, '95': 0.5571428571428572}},\n",
       "   'TINET.GRAPHML': {2: {'34': 0.38095238095238093, '37': 0.42857142857142855},\n",
       "    3: {'7': 1.8333333333333333, '18': 2.1666666666666665},\n",
       "    4: {'38': 0.8, '40': 0.8222222222222222}},\n",
       "   'ULAKNET.GRAPHML': {2: {'76': 0.6666666666666666, '75': 0.6666666666666666},\n",
       "    3: {'76': 0.6666666666666666, '37': 1.2},\n",
       "    4: {'74': 1.0, '75': 1.0}},\n",
       "   'UNINETT2010.GRAPHML': {2: {'66': 0.39285714285714285,\n",
       "     '3': 0.39285714285714285},\n",
       "    3: {'3': 0.4065934065934066, '26': 0.45054945054945056},\n",
       "    4: {'66': 0.2857142857142857, '1': 0.29523809523809524}},\n",
       "   'USCARRIER': {2: {'7': 0.5321637426900585, '119': 0.5672514619883041},\n",
       "    3: {'7': 0.3827956989247312, '119': 0.3978494623655914},\n",
       "    4: {'7': 0.3827956989247312, '119': 0.3978494623655914}},\n",
       "   'USCARRIER.GRAPHML': {2: {'7': 0.5321637426900585,\n",
       "     '119': 0.5672514619883041},\n",
       "    3: {'7': 0.3827956989247312, '119': 0.3978494623655914},\n",
       "    4: {'7': 0.3827956989247312, '119': 0.3978494623655914}},\n",
       "   'UUNET.GRAPHML': {2: {'13': 0.2, '9': 0.24444444444444444},\n",
       "    3: {'25': 0.3787878787878788, '4': 0.42424242424242425},\n",
       "    4: {'21': 0.45454545454545453, '43': 0.4696969696969697}}}},\n",
       " {'ACCS': {'ABILENE': {2: {'10': 0.14285714285714285, '8': 0.2857142857142857},\n",
       "    3: {'1': 0.14285714285714285, '2': 0.14285714285714285},\n",
       "    4: {'5': 0.125, '2': 0.25}},\n",
       "   'ABVT': {2: {'5': 2.6436842105263154, '10': 2.862368421052632},\n",
       "    3: {'7': 0.024210526315789474, '10': 2.0813157894736842},\n",
       "    4: {'0': 0.025555555555555557, '5': 0.15366666666666667}},\n",
       "   'AGIS': {2: {'6': 0.1, '10': 0.15},\n",
       "    3: {'2': 0.15789473684210525, '14': 0.15789473684210525},\n",
       "    4: {'2': 0.05, '6': 0.1}},\n",
       "   'ARN.GRAPHML': {2: {'24': 0.2222222222222222, '8': 0.3333333333333333},\n",
       "    3: {'4': 0.10714285714285714, '8': 1.7142857142857142},\n",
       "    4: {'29': 0.4074074074074074, '18': 0.6296296296296297}},\n",
       "   'BELLCANADA': {2: {'8': 0.02702702702702703, '4': 0.05405405405405406},\n",
       "    3: {'8': 0.05128205128205128, '1': 0.07692307692307693},\n",
       "    4: {'1': 0.02631578947368421, '8': 0.05263157894736842}},\n",
       "   'BELLSOUTH.GRAPHML': {2: {'31': 0.14583333333333334,\n",
       "     '49': 0.20833333333333334},\n",
       "    3: {'1': 0.022222222222222223, '45': 0.022222222222222223},\n",
       "    4: {'33': 0.024390243902439025, '42': 0.024390243902439025}},\n",
       "   'BICS.GRAPHML': {2: {'15': 0.038461538461538464, '14': 0.07692307692307693},\n",
       "    3: {'12': 0.07692307692307693, '24': 0.07692307692307693},\n",
       "    4: {'16': 0.04, '13': 0.08}},\n",
       "   'CERNET.GRAPHML': {2: {'37': 0.10810810810810811, '28': 0.1891891891891892},\n",
       "    3: {'12': 0.06060606060606061, '1': 0.06060606060606061},\n",
       "    4: {'30': 0.03125, '26': 0.03125}},\n",
       "   'CESNET200706.GRAPHML': {2: {'0': 0.025, '43': 0.05},\n",
       "    3: {'15': 0.02857142857142857, '20': 0.02857142857142857},\n",
       "    4: {'36': 0.02631578947368421, '20': 0.02631578947368421}},\n",
       "   'CHINANET.GRAPHML': {2: {'23': 0.02857142857142857,\n",
       "     '27': 0.02857142857142857},\n",
       "    3: {'30': 0.030303030303030304, '20': 0.030303030303030304},\n",
       "    4: {'23': 0.027777777777777776, '33': 0.027777777777777776}},\n",
       "   'COGENTCO.GRAPHML': {2: {'158': 0.021164021164021163,\n",
       "     '1': 0.08465608465608465},\n",
       "    3: {'2': 0.01675977653631285, '12': 0.0223463687150838},\n",
       "    4: {'2': 0.005714285714285714, '12': 0.005714285714285714}},\n",
       "   'COLT.GRAPHML': {2: {'138': 0.5100671140939598, '152': 0.5570469798657718},\n",
       "    3: {'106': 0.008264462809917356, '109': 0.008264462809917356},\n",
       "    4: {'106': 0.007518796992481203, '14': 0.007518796992481203}},\n",
       "   'DELTACOM.GRAPHML': {2: {'60': 0.046296296296296294,\n",
       "     '104': 0.25925925925925924},\n",
       "    3: {'1': 0.009615384615384616, '4': 0.019230769230769232},\n",
       "    4: {'1': 0.009615384615384616, '10': 0.028846153846153848}},\n",
       "   'GARR201110.GRAPHML': {2: {'33': 0.05555555555555555,\n",
       "     '53': 0.25925925925925924},\n",
       "    3: {'51': 0.021739130434782608, '52': 0.021739130434782608},\n",
       "    4: {'51': 0.02, '7': 0.06}},\n",
       "   'GEANT2001': {2: {'20': 0.045454545454545456, '21': 0.18181818181818182},\n",
       "    3: {'19': 0.047619047619047616, '18': 0.047619047619047616},\n",
       "    4: {'7': 0.09523809523809523, '11': 0.14285714285714285}},\n",
       "   'GRNET.GRAPHML': {2: {'15': 0.06451612903225806, '2': 0.0967741935483871},\n",
       "    3: {'21': 0.12121212121212122, '5': 0.5454545454545454},\n",
       "    4: {'9': 0.06451612903225806, '4': 0.06451612903225806}},\n",
       "   'INTELLIFIBER.GRAPHML': {2: {'41': 0.016129032258064516,\n",
       "     '23': 0.03225806451612903},\n",
       "    3: {'16': 0.01694915254237288, '5': 0.03389830508474576},\n",
       "    4: {'5': 0.017241379310344827, '45': 0.017241379310344827}},\n",
       "   'INTEROUTE.GRAPHML': {2: {'42': 0.011764705882352941,\n",
       "     '72': 0.011764705882352941},\n",
       "    3: {'2': 0.012195121951219513, '49': 0.012195121951219513},\n",
       "    4: {'1': 0.011764705882352941, '0': 0.011764705882352941}},\n",
       "   'ION.GRAPHML': {2: {'105': 0.009523809523809525,\n",
       "     '110': 0.009523809523809525},\n",
       "    3: {'2': 0.01, '74': 0.01},\n",
       "    4: {'2': 0.01, '74': 0.01}},\n",
       "   'JANETBACKBONE.GRAPHML': {2: {'14': 0.125, '11': 0.125},\n",
       "    3: {'25': 0.047619047619047616, '20': 0.047619047619047616},\n",
       "    4: {'28': 0.047619047619047616, '20': 0.047619047619047616}},\n",
       "   'KDL': {2: {'200': 0.0014144271570014145, '87': 0.0014144271570014145},\n",
       "    3: {'200': 0.0015772870662460567, '28': 0.0015772870662460567},\n",
       "    4: {'200': 0.0015772870662460567, '28': 0.0015772870662460567}},\n",
       "   'LATNET.GRAPHML': {2: {'22': 0.06153846153846154, '48': 0.1076923076923077},\n",
       "    3: {'56': 0.017241379310344827, '5': 0.017241379310344827},\n",
       "    4: {'10': 0.015625, '63': 0.03125}},\n",
       "   'MISSOURI.GRAPHML': {2: {'7': 0.02040816326530612,\n",
       "     '11': 0.02040816326530612},\n",
       "    3: {'5': 0.019230769230769232, '14': 0.019230769230769232},\n",
       "    4: {'41': 0.018867924528301886, '5': 0.018867924528301886}},\n",
       "   'NET2': {2: {'5': 0.041666666666666664, '4': 0.041666666666666664},\n",
       "    3: {'17': 0.04, '4': 0.08},\n",
       "    4: {'17': 0.04, '4': 0.08}},\n",
       "   'NIIF.GRAPHML': {2: {'23': 0.23529411764705882, '32': 1.411764705882353},\n",
       "    3: {'1': 0.0967741935483871, '19': 0.12903225806451613},\n",
       "    4: {'24': 0.034482758620689655, '3': 0.10344827586206896}},\n",
       "   'NOEL.GRAPHML': {2: {'18': 0.07142857142857142, '8': 0.07142857142857142},\n",
       "    3: {'16': 0.07142857142857142, '4': 0.14285714285714285},\n",
       "    4: {'2': 0.06666666666666667, '9': 0.26666666666666666}},\n",
       "   'PIONIERL3.GRAPHML': {2: {'13': 0.2647058823529412, '6': 0.5},\n",
       "    3: {'20': 0.09375, '35': 0.09375},\n",
       "    4: {'13': 0.36363636363636365, '3': 0.3939393939393939}},\n",
       "   'REDIRIS.GRAPHML': {2: {'7': 0.07692307692307693, '9': 0.07692307692307693},\n",
       "    3: {'8': 0.08333333333333333, '13': 0.08333333333333333},\n",
       "    4: {'8': 0.06666666666666667, '10': 0.13333333333333333}},\n",
       "   'RENATER2010.GRAPHML': {2: {'2': 0.2, '32': 0.775},\n",
       "    3: {'13': 0.15384615384615385, '5': 0.6923076923076923},\n",
       "    4: {'2': 0.1, '0': 0.85}},\n",
       "   'RHNET.GRAPHML': {2: {'9': 0.09090909090909091, '10': 0.18181818181818182},\n",
       "    3: {'11': 0.3076923076923077, '1': 0.6153846153846154},\n",
       "    4: {'11': 0.3076923076923077, '1': 0.6153846153846154}},\n",
       "   'RNP.GRAPHML': {2: {'9': 0.037037037037037035, '4': 0.1111111111111111},\n",
       "    3: {'9': 0.041666666666666664, '2': 0.041666666666666664},\n",
       "    4: {'9': 0.038461538461538464, '2': 0.038461538461538464}},\n",
       "   'ROEDUNETFIBRE.GRAPHML': {2: {'4': 0.07317073170731707,\n",
       "     '25': 0.07317073170731707},\n",
       "    3: {'0': 0.07317073170731707, '13': 0.07317073170731707},\n",
       "    4: {'25': 0.04878048780487805, '0': 0.07317073170731707}},\n",
       "   'SINET.GRAPHML': {2: {'35': 0.14492753623188406, '24': 0.15942028985507245},\n",
       "    3: {'18': 0.07575757575757576, '6': 0.07575757575757576},\n",
       "    4: {'27': 0.07575757575757576, '50': 0.07575757575757576}},\n",
       "   'SPRINT': {2: {'0': 0.125, '10': 0.375},\n",
       "    3: {'2': 0.125, '3': 0.25},\n",
       "    4: {'2': 0.125, '9': 0.125}},\n",
       "   'SUNET.GRAPHML': {2: {'2': 0.15, '16': 0.15},\n",
       "    3: {'16': 0.14285714285714285, '1': 0.19047619047619047},\n",
       "    4: {'9': 0.18181818181818182, '10': 0.2727272727272727}},\n",
       "   'SURFNET.GRAPHML': {2: {'38': 0.08695652173913043,\n",
       "     '47': 0.32608695652173914},\n",
       "    3: {'35': 0.02564102564102564, '38': 0.02564102564102564},\n",
       "    4: {'1': 0.023809523809523808, '4': 0.047619047619047616}},\n",
       "   'SWITCHL3.GRAPHML': {2: {'30': 0.029411764705882353,\n",
       "     '35': 0.058823529411764705},\n",
       "    3: {'0': 0.027777777777777776, '33': 0.08333333333333333},\n",
       "    4: {'41': 0.03125, '16': 0.03125}},\n",
       "   'TATANLD.GRAPHML': {2: {'97': 0.008064516129032258,\n",
       "     '23': 0.008064516129032258},\n",
       "    3: {'71': 0.00819672131147541, '15': 0.00819672131147541},\n",
       "    4: {'15': 0.008064516129032258, '97': 0.008064516129032258}},\n",
       "   'TINET.GRAPHML': {2: {'8': 0.043478260869565216, '5': 0.08695652173913043},\n",
       "    3: {'7': 0.3673469387755102, '23': 0.3877551020408163},\n",
       "    4: {'16': 0.023255813953488372, '13': 0.06976744186046512}},\n",
       "   'ULAKNET.GRAPHML': {2: {'75': 0.10126582278481013,\n",
       "     '74': 0.13924050632911392},\n",
       "    3: {'37': 0.013157894736842105, '38': 0.013157894736842105},\n",
       "    4: {'75': 0.1, '74': 1.7}},\n",
       "   'UNINETT2010.GRAPHML': {2: {'41': 0.045454545454545456,\n",
       "     '37': 0.07575757575757576},\n",
       "    3: {'53': 0.016666666666666666, '51': 0.03333333333333333},\n",
       "    4: {'6': 0.01694915254237288, '5': 0.01694915254237288}},\n",
       "   'USCARRIER': {2: {'9': 0.007194244604316547, '86': 0.007194244604316547},\n",
       "    3: {'15': 0.007874015748031496, '4': 0.007874015748031496},\n",
       "    4: {'15': 0.007874015748031496, '2': 0.007874015748031496}},\n",
       "   'USCARRIER.GRAPHML': {2: {'9': 0.007194244604316547,\n",
       "     '86': 0.007194244604316547},\n",
       "    3: {'15': 0.007874015748031496, '4': 0.007874015748031496},\n",
       "    4: {'15': 0.007874015748031496, '2': 0.007874015748031496}},\n",
       "   'UUNET.GRAPHML': {2: {'13': 0.02564102564102564, '27': 0.05128205128205128},\n",
       "    3: {'48': 0.02702702702702703, '1': 0.02702702702702703},\n",
       "    4: {'36': 0.02702702702702703, '35': 0.02702702702702703}}}},\n",
       " {'WCCC': {'ABILENE': {2: {'8': 2, '10': 2},\n",
       "    3: {'7': 3, '1': 3},\n",
       "    4: {'7': 3, '2': 3}},\n",
       "   'ABVT': {2: {'1': 88.182, '10': 88.564},\n",
       "    3: {'10': 34.528999999999996, '7': 51.078},\n",
       "    4: {'1': 88.182, '0': 90.846}},\n",
       "   'AGIS': {2: {'9': 3, '19': 3}, 3: {'5': 3, '7': 3}, 4: {'6': 2, '9': 3}},\n",
       "   'ARN.GRAPHML': {2: {'22': 1, '8': 2},\n",
       "    3: {'8': 3, '4': 3},\n",
       "    4: {'7': 3, '29': 4}},\n",
       "   'BELLCANADA': {2: {'31': 6, '14': 6},\n",
       "    3: {'12': 7, '33': 7},\n",
       "    4: {'12': 7, '33': 7}},\n",
       "   'BELLSOUTH.GRAPHML': {2: {'35': 1, '31': 1},\n",
       "    3: {'31': 4, '15': 4},\n",
       "    4: {'48': 3, '49': 3}},\n",
       "   'BICS.GRAPHML': {2: {'19': 2, '14': 2},\n",
       "    3: {'13': 4, '24': 4},\n",
       "    4: {'19': 3, '14': 4}},\n",
       "   'CERNET.GRAPHML': {2: {'21': 1, '24': 2},\n",
       "    3: {'20': 4, '12': 4},\n",
       "    4: {'39': 4, '16': 4}},\n",
       "   'CESNET200706.GRAPHML': {2: {'40': 1, '7': 2},\n",
       "    3: {'43': 3, '7': 3},\n",
       "    4: {'12': 3, '43': 3}},\n",
       "   'CHINANET.GRAPHML': {2: {'39': 1, '8': 1},\n",
       "    3: {'41': 3, '28': 3},\n",
       "    4: {'8': 2, '25': 2}},\n",
       "   'COGENTCO.GRAPHML': {2: {'77': 6, '154': 9},\n",
       "    3: {'2': 10, '37': 10},\n",
       "    4: {'75': 9, '2': 10}},\n",
       "   'COLT.GRAPHML': {2: {'138': 6, '140': 6},\n",
       "    3: {'139': 9, '78': 10},\n",
       "    4: {'54': 10, '140': 10}},\n",
       "   'DELTACOM.GRAPHML': {2: {'60': 2, '47': 3},\n",
       "    3: {'3': 4, '47': 5},\n",
       "    4: {'3': 4, '47': 5}},\n",
       "   'GARR201110.GRAPHML': {2: {'14': 2, '53': 2},\n",
       "    3: {'14': 4, '56': 5},\n",
       "    4: {'55': 4, '49': 4}},\n",
       "   'GEANT2001': {2: {'3': 2, '2': 2},\n",
       "    3: {'19': 3, '9': 3},\n",
       "    4: {'26': 3, '17': 4}},\n",
       "   'GRNET.GRAPHML': {2: {'20': 1, '30': 2},\n",
       "    3: {'26': 3, '5': 4},\n",
       "    4: {'16': 4, '9': 4}},\n",
       "   'INTELLIFIBER.GRAPHML': {2: {'44': 5, '23': 5},\n",
       "    3: {'5': 6, '7': 6},\n",
       "    4: {'7': 6, '5': 6}},\n",
       "   'INTEROUTE.GRAPHML': {2: {'7': 8, '52': 8},\n",
       "    3: {'16': 9, '56': 9},\n",
       "    4: {'56': 9, '52': 9}},\n",
       "   'ION.GRAPHML': {2: {'64': 13, '59': 13},\n",
       "    3: {'18': 12, '19': 13},\n",
       "    4: {'18': 12, '19': 13}},\n",
       "   'JANETBACKBONE.GRAPHML': {2: {'13': 2, '12': 2},\n",
       "    3: {'14': 4, '27': 4},\n",
       "    4: {'27': 4, '28': 4}},\n",
       "   'KDL': {2: {'18': 24, '98': 25},\n",
       "    3: {'487': 29, '18': 30},\n",
       "    4: {'24': 29, '487': 29}},\n",
       "   'LATNET.GRAPHML': {2: {'30': 1, '42': 2},\n",
       "    3: {'23': 4, '6': 4},\n",
       "    4: {'48': 3, '42': 3}},\n",
       "   'MISSOURI.GRAPHML': {2: {'4': 6, '49': 6},\n",
       "    3: {'11': 7, '16': 7},\n",
       "    4: {'11': 7, '16': 7}},\n",
       "   'NET2': {2: {'3': 5, '24': 5}, 3: {'3': 5, '24': 5}, 4: {'3': 5, '24': 5}},\n",
       "   'NIIF.GRAPHML': {2: {'32': 1, '23': 1},\n",
       "    3: {'25': 3, '27': 4},\n",
       "    4: {'31': 3, '12': 4}},\n",
       "   'NOEL.GRAPHML': {2: {'15': 2, '9': 2},\n",
       "    3: {'3': 4, '2': 4},\n",
       "    4: {'2': 2, '0': 2}},\n",
       "   'PIONIERL3.GRAPHML': {2: {'34': 1, '0': 2},\n",
       "    3: {'20': 4, '6': 5},\n",
       "    4: {'0': 2, '6': 2}},\n",
       "   'REDIRIS.GRAPHML': {2: {'16': 1, '7': 2},\n",
       "    3: {'18': 3, '12': 3},\n",
       "    4: {'6': 3, '10': 4}},\n",
       "   'RENATER2010.GRAPHML': {2: {'32': 1, '31': 2},\n",
       "    3: {'30': 3, '3': 3},\n",
       "    4: {'2': 2, '0': 3}},\n",
       "   'RHNET.GRAPHML': {2: {'9': 2, '10': 3},\n",
       "    3: {'1': 2, '9': 2},\n",
       "    4: {'1': 2, '9': 2}},\n",
       "   'RNP.GRAPHML': {2: {'5': 2, '16': 2},\n",
       "    3: {'5': 5, '4': 6},\n",
       "    4: {'5': 5, '4': 6}},\n",
       "   'ROEDUNETFIBRE.GRAPHML': {2: {'4': 5, '16': 5},\n",
       "    3: {'25': 4, '13': 4},\n",
       "    4: {'13': 4, '25': 4}},\n",
       "   'SINET.GRAPHML': {2: {'35': 2, '34': 3},\n",
       "    3: {'18': 4, '66': 5},\n",
       "    4: {'50': 4, '66': 5}},\n",
       "   'SPRINT': {2: {'4': 1, '10': 2}, 3: {'3': 3, '1': 4}, 4: {'2': 3, '10': 3}},\n",
       "   'SUNET.GRAPHML': {2: {'16': 4, '2': 5},\n",
       "    3: {'16': 4, '1': 5},\n",
       "    4: {'2': 5, '17': 5}},\n",
       "   'SURFNET.GRAPHML': {2: {'8': 1, '30': 2},\n",
       "    3: {'22': 5, '38': 5},\n",
       "    4: {'8': 3, '1': 3}},\n",
       "   'SWITCHL3.GRAPHML': {2: {'35': 2, '30': 2},\n",
       "    3: {'32': 3, '34': 4},\n",
       "    4: {'41': 4, '28': 4}},\n",
       "   'TATANLD.GRAPHML': {2: {'98': 11, '60': 11},\n",
       "    3: {'60': 10, '71': 11},\n",
       "    4: {'60': 10, '71': 11}},\n",
       "   'TINET.GRAPHML': {2: {'34': 2, '37': 2},\n",
       "    3: {'7': 5, '18': 7},\n",
       "    4: {'46': 6, '38': 6}},\n",
       "   'ULAKNET.GRAPHML': {2: {'76': 1, '75': 1},\n",
       "    3: {'76': 2, '37': 4},\n",
       "    4: {'74': 1, '75': 1}},\n",
       "   'UNINETT2010.GRAPHML': {2: {'66': 2, '3': 3},\n",
       "    3: {'51': 5, '26': 6},\n",
       "    4: {'1': 4, '0': 4}},\n",
       "   'USCARRIER': {2: {'109': 11, '18': 11},\n",
       "    3: {'7': 12, '109': 12},\n",
       "    4: {'7': 12, '109': 12}},\n",
       "   'USCARRIER.GRAPHML': {2: {'109': 11, '18': 11},\n",
       "    3: {'7': 12, '109': 12},\n",
       "    4: {'7': 12, '109': 12}},\n",
       "   'UUNET.GRAPHML': {2: {'13': 1, '9': 2},\n",
       "    3: {'25': 3, '48': 4},\n",
       "    4: {'48': 4, '22': 4}}}},\n",
       " {'WCCS': {'ABILENE': {2: {'8': 1, '10': 1},\n",
       "    3: {'1': 1, '2': 1},\n",
       "    4: {'2': 1, '5': 1}},\n",
       "   'ABVT': {2: {'10': 17.759, '5': 47.464},\n",
       "    3: {'7': 0.46, '10': 13.138},\n",
       "    4: {'0': 0.46, '5': 2.766}},\n",
       "   'AGIS': {2: {'6': 1, '10': 1}, 3: {'5': 2, '7': 2}, 4: {'6': 1, '2': 1}},\n",
       "   'ARN.GRAPHML': {2: {'8': 1, '24': 1},\n",
       "    3: {'4': 2, '8': 3},\n",
       "    4: {'7': 2, '29': 2}},\n",
       "   'BELLCANADA': {2: {'4': 1, '27': 1},\n",
       "    3: {'8': 1, '1': 2},\n",
       "    4: {'1': 1, '8': 1}},\n",
       "   'BELLSOUTH.GRAPHML': {2: {'31': 1, '35': 3},\n",
       "    3: {'15': 1, '1': 1},\n",
       "    4: {'50': 1, '33': 1}},\n",
       "   'BICS.GRAPHML': {2: {'14': 1, '15': 1},\n",
       "    3: {'12': 1, '24': 1},\n",
       "    4: {'13': 1, '15': 1}},\n",
       "   'CERNET.GRAPHML': {2: {'37': 1, '21': 2},\n",
       "    3: {'12': 1, '1': 1},\n",
       "    4: {'30': 1, '26': 1}},\n",
       "   'CESNET200706.GRAPHML': {2: {'43': 1, '0': 1},\n",
       "    3: {'15': 1, '20': 1},\n",
       "    4: {'36': 1, '20': 1}},\n",
       "   'CHINANET.GRAPHML': {2: {'38': 1, '8': 1},\n",
       "    3: {'30': 1, '20': 1},\n",
       "    4: {'25': 1, '38': 1}},\n",
       "   'COGENTCO.GRAPHML': {2: {'158': 2, '1': 3},\n",
       "    3: {'12': 2, '2': 2},\n",
       "    4: {'2': 1, '12': 1}},\n",
       "   'COLT.GRAPHML': {2: {'152': 5, '138': 8},\n",
       "    3: {'106': 1, '109': 1},\n",
       "    4: {'106': 1, '14': 1}},\n",
       "   'DELTACOM.GRAPHML': {2: {'60': 2, '104': 5},\n",
       "    3: {'4': 1, '1': 1},\n",
       "    4: {'1': 1, '10': 1}},\n",
       "   'GARR201110.GRAPHML': {2: {'33': 1, '53': 2},\n",
       "    3: {'51': 1, '52': 1},\n",
       "    4: {'51': 1, '50': 2}},\n",
       "   'GEANT2001': {2: {'20': 1, '21': 1},\n",
       "    3: {'7': 1, '19': 1},\n",
       "    4: {'7': 1, '26': 2}},\n",
       "   'GRNET.GRAPHML': {2: {'2': 1, '15': 1},\n",
       "    3: {'21': 2, '5': 4},\n",
       "    4: {'9': 1, '4': 1}},\n",
       "   'INTELLIFIBER.GRAPHML': {2: {'23': 1, '55': 1},\n",
       "    3: {'5': 1, '16': 1},\n",
       "    4: {'5': 1, '46': 1}},\n",
       "   'INTEROUTE.GRAPHML': {2: {'43': 1, '32': 1},\n",
       "    3: {'43': 1, '2': 1},\n",
       "    4: {'43': 1, '10': 1}},\n",
       "   'ION.GRAPHML': {2: {'74': 1, '105': 1},\n",
       "    3: {'2': 1, '74': 1},\n",
       "    4: {'2': 1, '74': 1}},\n",
       "   'JANETBACKBONE.GRAPHML': {2: {'13': 1, '14': 1},\n",
       "    3: {'25': 1, '20': 1},\n",
       "    4: {'22': 1, '28': 1}},\n",
       "   'KDL': {2: {'204': 1, '200': 1},\n",
       "    3: {'200': 1, '408': 1},\n",
       "    4: {'200': 1, '408': 1}},\n",
       "   'LATNET.GRAPHML': {2: {'42': 2, '48': 2},\n",
       "    3: {'56': 1, '63': 1},\n",
       "    4: {'10': 1, '63': 1}},\n",
       "   'MISSOURI.GRAPHML': {2: {'62': 1, '34': 1},\n",
       "    3: {'11': 1, '41': 1},\n",
       "    4: {'41': 1, '5': 1}},\n",
       "   'NET2': {2: {'3': 1, '24': 1}, 3: {'4': 1, '1': 1}, 4: {'4': 1, '1': 1}},\n",
       "   'NIIF.GRAPHML': {2: {'32': 3, '23': 3},\n",
       "    3: {'27': 2, '19': 2},\n",
       "    4: {'24': 1, '19': 2}},\n",
       "   'NOEL.GRAPHML': {2: {'9': 1, '18': 1},\n",
       "    3: {'4': 1, '12': 1},\n",
       "    4: {'2': 1, '0': 2}},\n",
       "   'PIONIERL3.GRAPHML': {2: {'13': 3, '6': 4},\n",
       "    3: {'20': 2, '35': 2},\n",
       "    4: {'0': 3, '13': 3}},\n",
       "   'REDIRIS.GRAPHML': {2: {'16': 1, '7': 1},\n",
       "    3: {'0': 1, '8': 1},\n",
       "    4: {'10': 1, '13': 1}},\n",
       "   'RENATER2010.GRAPHML': {2: {'2': 3, '31': 6},\n",
       "    3: {'13': 2, '5': 3},\n",
       "    4: {'2': 2, '32': 3}},\n",
       "   'RHNET.GRAPHML': {2: {'10': 1, '9': 1},\n",
       "    3: {'1': 2, '11': 2},\n",
       "    4: {'1': 2, '11': 2}},\n",
       "   'RNP.GRAPHML': {2: {'9': 1, '4': 1},\n",
       "    3: {'9': 1, '4': 1},\n",
       "    4: {'9': 1, '4': 1}},\n",
       "   'ROEDUNETFIBRE.GRAPHML': {2: {'4': 1, '25': 1},\n",
       "    3: {'0': 1, '25': 2},\n",
       "    4: {'0': 1, '25': 1}},\n",
       "   'SINET.GRAPHML': {2: {'35': 1, '34': 3},\n",
       "    3: {'0': 1, '66': 2},\n",
       "    4: {'73': 2, '63': 2}},\n",
       "   'SPRINT': {2: {'4': 1, '10': 1}, 3: {'3': 1, '2': 1}, 4: {'2': 1, '9': 1}},\n",
       "   'SUNET.GRAPHML': {2: {'2': 1, '16': 1},\n",
       "    3: {'16': 1, '1': 2},\n",
       "    4: {'17': 2, '9': 2}},\n",
       "   'SURFNET.GRAPHML': {2: {'38': 2, '47': 3},\n",
       "    3: {'35': 1, '38': 1},\n",
       "    4: {'1': 1, '4': 1}},\n",
       "   'SWITCHL3.GRAPHML': {2: {'35': 1, '34': 1},\n",
       "    3: {'0': 1, '22': 1},\n",
       "    4: {'41': 1, '16': 1}},\n",
       "   'TATANLD.GRAPHML': {2: {'95': 1, '120': 1},\n",
       "    3: {'71': 1, '23': 1},\n",
       "    4: {'23': 1, '15': 1}},\n",
       "   'TINET.GRAPHML': {2: {'5': 1, '8': 1},\n",
       "    3: {'7': 3, '12': 3},\n",
       "    4: {'16': 1, '48': 2}},\n",
       "   'ULAKNET.GRAPHML': {2: {'75': 1, '74': 1},\n",
       "    3: {'37': 1, '38': 1},\n",
       "    4: {'75': 1, '74': 3}},\n",
       "   'UNINETT2010.GRAPHML': {2: {'37': 1, '17': 2},\n",
       "    3: {'51': 1, '53': 1},\n",
       "    4: {'6': 1, '5': 1}},\n",
       "   'USCARRIER': {2: {'9': 1, '103': 1},\n",
       "    3: {'15': 1, '2': 1},\n",
       "    4: {'15': 1, '4': 1}},\n",
       "   'USCARRIER.GRAPHML': {2: {'9': 1, '103': 1},\n",
       "    3: {'15': 1, '2': 1},\n",
       "    4: {'15': 1, '4': 1}},\n",
       "   'UUNET.GRAPHML': {2: {'13': 1, '45': 1},\n",
       "    3: {'28': 1, '7': 1},\n",
       "    4: {'36': 1, '35': 1}}}})"
      ]
     },
     "execution_count": 31,
     "metadata": {},
     "output_type": "execute_result"
    }
   ],
   "source": [
    "dynamic_static_cont_selector(gGrahps,clusters__,is_dynamic=True,filter_rank=2)"
   ]
  },
  {
   "cell_type": "code",
   "execution_count": 32,
   "metadata": {},
   "outputs": [
    {
     "data": {
      "text/plain": [
       "{}"
      ]
     },
     "execution_count": 32,
     "metadata": {},
     "output_type": "execute_result"
    }
   ],
   "source": [
    "dict()"
   ]
  },
  {
   "cell_type": "code",
   "execution_count": 33,
   "metadata": {},
   "outputs": [],
   "source": [
    "d={'ABILENE': {2: {'8': 0.2857142857142857, '9': 0.42857142857142855, '10': 0.14285714285714285, '6': 0.2857142857142857}, 3: {'7': 0.5714285714285714, '1': 0.14285714285714285, '2': 0.14285714285714285, '6': 0.2857142857142857}, 4: {'7': 0.875, '2': 0.25, '5': 0.125}}\n",
    "}"
   ]
  },
  {
   "cell_type": "code",
   "execution_count": 34,
   "metadata": {},
   "outputs": [
    {
     "data": {
      "text/plain": [
       "{'ABILENE': {2: {'10': 0.14285714285714285, '8': 0.2857142857142857},\n",
       "  3: {'1': 0.14285714285714285, '2': 0.14285714285714285},\n",
       "  4: {'5': 0.125, '2': 0.25}}}"
      ]
     },
     "execution_count": 34,
     "metadata": {},
     "output_type": "execute_result"
    }
   ],
   "source": [
    "dd = {k3: {k2: dict(sorted(v3[k2].items(), key=lambda item: item[1])[:2]) for k2, v2 in v3.items()}\n",
    "      for (k3, v3) in d.items()}\n",
    "\n",
    "dd\n"
   ]
  },
  {
   "cell_type": "code",
   "execution_count": 35,
   "metadata": {},
   "outputs": [
    {
     "ename": "NameError",
     "evalue": "name 'average_case_c_c' is not defined",
     "output_type": "error",
     "traceback": [
      "\u001b[1;31m---------------------------------------------------------------------------\u001b[0m",
      "\u001b[1;31mNameError\u001b[0m                                 Traceback (most recent call last)",
      "Cell \u001b[1;32mIn [35], line 1\u001b[0m\n\u001b[1;32m----> 1\u001b[0m all_ \u001b[39m=\u001b[39m {\u001b[39m\"\u001b[39m\u001b[39mACCC\u001b[39m\u001b[39m\"\u001b[39m: (average_case_c_c, \u001b[39m\"\u001b[39m\u001b[39mAverage\u001b[39m\u001b[39m\"\u001b[39m, \u001b[39m\"\u001b[39m\u001b[39mController\u001b[39m\u001b[39m\"\u001b[39m), \u001b[39m\"\u001b[39m\u001b[39mACCS\u001b[39m\u001b[39m\"\u001b[39m: (average_case_c_s, \u001b[39m\"\u001b[39m\u001b[39mAverage\u001b[39m\u001b[39m\"\u001b[39m, \u001b[39m\"\u001b[39m\u001b[39mSwitch\u001b[39m\u001b[39m\"\u001b[39m),\n\u001b[0;32m      2\u001b[0m         \u001b[39m\"\u001b[39m\u001b[39mWCCC\u001b[39m\u001b[39m\"\u001b[39m: (worst_case_c_c, \u001b[39m\"\u001b[39m\u001b[39mWorst\u001b[39m\u001b[39m\"\u001b[39m, \u001b[39m\"\u001b[39m\u001b[39mController\u001b[39m\u001b[39m\"\u001b[39m), \u001b[39m\"\u001b[39m\u001b[39mWCCS\u001b[39m\u001b[39m\"\u001b[39m: (worst_case_c_s, \u001b[39m\"\u001b[39m\u001b[39mWorst\u001b[39m\u001b[39m\"\u001b[39m, \u001b[39m\"\u001b[39m\u001b[39mSwitch\u001b[39m\u001b[39m\"\u001b[39m)}\n",
      "\u001b[1;31mNameError\u001b[0m: name 'average_case_c_c' is not defined"
     ]
    }
   ],
   "source": [
    "all_ = {\"ACCC\": (average_case_c_c, \"Average\", \"Controller\"), \"ACCS\": (average_case_c_s, \"Average\", \"Switch\"),\n",
    "        \"WCCC\": (worst_case_c_c, \"Worst\", \"Controller\"), \"WCCS\": (worst_case_c_s, \"Worst\", \"Switch\")}\n",
    "# {k:v[] for k,v in all_.items()}"
   ]
  },
  {
   "cell_type": "code",
   "execution_count": null,
   "metadata": {},
   "outputs": [],
   "source": [
    "t = {'ABILENE': {2: {'8': {0.2857142857142857}, '9': {0.42857142857142855}, '10': {0.14285714285714285}, '6': {0.2857142857142857}}, 3: {'7': {0.5714285714285714}, '1': {0.14285714285714285}, '2': {0.14285714285714285}, '6': {0.2857142857142857}}, 4: {'7': {0.875}, '2': {0.25}, '5': {0.125}}}, 'ABVT': {2: {'11': {38.57115789473684}, '1': {5.419842105263158}\n",
    "}}}"
   ]
  },
  {
   "cell_type": "code",
   "execution_count": null,
   "metadata": {},
   "outputs": [],
   "source": [
    "t2 = {\"ACC\": {'ABILENE': {2: {'8': {0.2857142857142857}, '9': {0.42857142857142855}, '10': {0.14285714285714285}, '6': {0.2857142857142857}}, 3: {'7': {0.5714285714285714}, '1': {0.14285714285714285}, '2': {0.14285714285714285}, '6': {0.2857142857142857}}, 4: {'7': {0.875}, '2': {0.25}, '5': {0.125}}}, 'ABVT': {2: {'11': {38.57115789473684}, '1': {5.419842105263158}\n",
    "                                                                                                                                                                                                                                                                                                                             }}}}\n"
   ]
  },
  {
   "cell_type": "code",
   "execution_count": null,
   "metadata": {},
   "outputs": [
    {
     "data": {
      "text/plain": [
       "{'ACC': {'ABILENE': {2: {'10': 0.14285714285714285, '8': 0.2857142857142857},\n",
       "   3: {'1': 0.14285714285714285, '2': 0.14285714285714285},\n",
       "   4: {'5': 0.125, '2': 0.25}},\n",
       "  'ABVT': {2: {'1': 5.419842105263158, '11': 38.57115789473684}}}}"
      ]
     },
     "execution_count": 42,
     "metadata": {},
     "output_type": "execute_result"
    }
   ],
   "source": [
    "tf={k4: {k3: {k2: {k1: list(v1)[0] for k1, v1 in v2.items()}\n",
    "           for k2, v2 in v3.items()} for k3, v3 in v4.items()} for k4, v4 in t2.items()}\n",
    "\n",
    "{k4: {k3: {k2: dict(sorted(v3[k2].items(), key=lambda item: item[1])[:2]) for k2, v2 in v3.items()}\n",
    "      for (k3, v3) in v4.items()} for k4, v4 in tf.items()}\n"
   ]
  },
  {
   "cell_type": "code",
   "execution_count": null,
   "metadata": {},
   "outputs": [],
   "source": [
    "tt = {k3: {k2: {k1:  list(v1)[0] for k1, v1 in v2.items()} for k2, v2 in v3.items()}\n",
    "      for (k3, v3) in t.items()}\n",
    "\n",
    "# {k3: {k2: dict(sorted(\n",
    "#     t[j].items(), key=lambda item: item[1], reverse=True)[:3])\n",
    "#     for j in t for k2, v2 in v3.items()}\n",
    "#  for (k3, v3) in t.items()}\n",
    "\n",
    "\n",
    "ff = {k3: {k2: dict(sorted(v3[k2].items(), key=lambda item: item[1])[:2]) for k2, v2 in v3.items()}\n",
    "      for (k3, v3) in tt.items()}\n"
   ]
  },
  {
   "cell_type": "code",
   "execution_count": null,
   "metadata": {},
   "outputs": [
    {
     "data": {
      "text/plain": [
       "{'ABILENE': {2: {'10': 0.14285714285714285, '8': 0.2857142857142857},\n",
       "  3: {'1': 0.14285714285714285, '2': 0.14285714285714285},\n",
       "  4: {'5': 0.125, '2': 0.25}},\n",
       " 'ABVT': {2: {'1': 5.419842105263158, '11': 38.57115789473684}}}"
      ]
     },
     "execution_count": 44,
     "metadata": {},
     "output_type": "execute_result"
    }
   ],
   "source": [
    "ff"
   ]
  },
  {
   "cell_type": "code",
   "execution_count": null,
   "metadata": {},
   "outputs": [
    {
     "data": {
      "text/plain": [
       "{'ABILENE': {2: {'8': 0.2857142857142857,\n",
       "   '9': 0.42857142857142855,\n",
       "   '10': 0.14285714285714285,\n",
       "   '6': 0.2857142857142857},\n",
       "  3: {'7': 0.5714285714285714,\n",
       "   '1': 0.14285714285714285,\n",
       "   '2': 0.14285714285714285,\n",
       "   '6': 0.2857142857142857},\n",
       "  4: {'7': 0.875, '2': 0.25, '5': 0.125}},\n",
       " 'ABVT': {2: {'11': 38.57115789473684, '1': 5.419842105263158}}}"
      ]
     },
     "execution_count": 45,
     "metadata": {},
     "output_type": "execute_result"
    }
   ],
   "source": [
    "tt"
   ]
  },
  {
   "cell_type": "code",
   "execution_count": null,
   "metadata": {},
   "outputs": [
    {
     "data": {
      "text/plain": [
       "{'ABILENE': {2: {'8': 0.2857142857142857,\n",
       "   '9': 0.42857142857142855,\n",
       "   '10': 0.14285714285714285,\n",
       "   '6': 0.2857142857142857},\n",
       "  3: {'7': 0.5714285714285714,\n",
       "   '1': 0.14285714285714285,\n",
       "   '2': 0.14285714285714285,\n",
       "   '6': 0.2857142857142857},\n",
       "  4: {'7': 0.875, '2': 0.25, '5': 0.125}},\n",
       " 'ABVT': {2: {'11': 38.57115789473684, '1': 5.419842105263158}}}"
      ]
     },
     "execution_count": 46,
     "metadata": {},
     "output_type": "execute_result"
    }
   ],
   "source": [
    "tt"
   ]
  },
  {
   "cell_type": "code",
   "execution_count": null,
   "metadata": {},
   "outputs": [
    {
     "data": {
      "text/plain": [
       "{'ABILENE': {2: {'10': 0.14285714285714285, '8': 0.2857142857142857},\n",
       "  3: {'1': 0.14285714285714285, '2': 0.14285714285714285},\n",
       "  4: {'5': 0.125, '2': 0.25}},\n",
       " 'ABVT': {2: {'1': 5.419842105263158, '11': 38.57115789473684}}}"
      ]
     },
     "execution_count": 47,
     "metadata": {},
     "output_type": "execute_result"
    }
   ],
   "source": [
    "ff"
   ]
  },
  {
   "cell_type": "code",
   "execution_count": null,
   "metadata": {},
   "outputs": [
    {
     "data": {
      "text/html": [
       "<div>\n",
       "<style scoped>\n",
       "    .dataframe tbody tr th:only-of-type {\n",
       "        vertical-align: middle;\n",
       "    }\n",
       "\n",
       "    .dataframe tbody tr th {\n",
       "        vertical-align: top;\n",
       "    }\n",
       "\n",
       "    .dataframe thead th {\n",
       "        text-align: right;\n",
       "    }\n",
       "</style>\n",
       "<table border=\"1\" class=\"dataframe\">\n",
       "  <thead>\n",
       "    <tr style=\"text-align: right;\">\n",
       "      <th></th>\n",
       "      <th>a</th>\n",
       "      <th>b</th>\n",
       "      <th>c</th>\n",
       "      <th>d</th>\n",
       "    </tr>\n",
       "  </thead>\n",
       "  <tbody>\n",
       "    <tr>\n",
       "      <th>0</th>\n",
       "      <td>ABILENE</td>\n",
       "      <td>2</td>\n",
       "      <td>10</td>\n",
       "      <td>0.142857</td>\n",
       "    </tr>\n",
       "    <tr>\n",
       "      <th>1</th>\n",
       "      <td>ABILENE</td>\n",
       "      <td>2</td>\n",
       "      <td>8</td>\n",
       "      <td>0.285714</td>\n",
       "    </tr>\n",
       "    <tr>\n",
       "      <th>2</th>\n",
       "      <td>ABILENE</td>\n",
       "      <td>3</td>\n",
       "      <td>1</td>\n",
       "      <td>0.142857</td>\n",
       "    </tr>\n",
       "    <tr>\n",
       "      <th>3</th>\n",
       "      <td>ABILENE</td>\n",
       "      <td>3</td>\n",
       "      <td>2</td>\n",
       "      <td>0.142857</td>\n",
       "    </tr>\n",
       "    <tr>\n",
       "      <th>4</th>\n",
       "      <td>ABILENE</td>\n",
       "      <td>4</td>\n",
       "      <td>5</td>\n",
       "      <td>0.125000</td>\n",
       "    </tr>\n",
       "    <tr>\n",
       "      <th>5</th>\n",
       "      <td>ABILENE</td>\n",
       "      <td>4</td>\n",
       "      <td>2</td>\n",
       "      <td>0.250000</td>\n",
       "    </tr>\n",
       "    <tr>\n",
       "      <th>6</th>\n",
       "      <td>ABVT</td>\n",
       "      <td>2</td>\n",
       "      <td>1</td>\n",
       "      <td>5.419842</td>\n",
       "    </tr>\n",
       "    <tr>\n",
       "      <th>7</th>\n",
       "      <td>ABVT</td>\n",
       "      <td>2</td>\n",
       "      <td>11</td>\n",
       "      <td>38.571158</td>\n",
       "    </tr>\n",
       "  </tbody>\n",
       "</table>\n",
       "</div>"
      ],
      "text/plain": [
       "         a  b   c          d\n",
       "0  ABILENE  2  10   0.142857\n",
       "1  ABILENE  2   8   0.285714\n",
       "2  ABILENE  3   1   0.142857\n",
       "3  ABILENE  3   2   0.142857\n",
       "4  ABILENE  4   5   0.125000\n",
       "5  ABILENE  4   2   0.250000\n",
       "6     ABVT  2   1   5.419842\n",
       "7     ABVT  2  11  38.571158"
      ]
     },
     "execution_count": 48,
     "metadata": {},
     "output_type": "execute_result"
    }
   ],
   "source": [
    "pd.DataFrame.from_records(\n",
    "    [\n",
    "        (l1, l2, l3, leaf1)\n",
    "        for l1, l2_dict in ff.items()\n",
    "        for l2, l3_dict in l2_dict.items()\n",
    "        for l3, leaf1 in l3_dict.items()\n",
    "        # for leaf1 in j\n",
    "    ],\n",
    "    columns=[\n",
    "        'a',\n",
    "        'b',\n",
    "        'c',\n",
    "        'd'\n",
    "    ]\n",
    ")"
   ]
  }
 ],
 "metadata": {
  "kernelspec": {
   "display_name": "Python 3.10.7 64-bit",
   "language": "python",
   "name": "python3"
  },
  "language_info": {
   "codemirror_mode": {
    "name": "ipython",
    "version": 3
   },
   "file_extension": ".py",
   "mimetype": "text/x-python",
   "name": "python",
   "nbconvert_exporter": "python",
   "pygments_lexer": "ipython3",
   "version": "3.10.7"
  },
  "orig_nbformat": 4,
  "vscode": {
   "interpreter": {
    "hash": "0d978b774c5b87a034cb69da17cebaff9cc0012937429fd6cf4c0f935826d1b9"
   }
  }
 },
 "nbformat": 4,
 "nbformat_minor": 2
}
