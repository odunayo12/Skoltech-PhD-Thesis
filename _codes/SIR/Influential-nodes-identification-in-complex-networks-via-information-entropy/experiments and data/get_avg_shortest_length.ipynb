{
 "cells": [
  {
   "cell_type": "code",
   "execution_count": 1,
   "metadata": {},
   "outputs": [],
   "source": [
    "import networkx as nx\n",
    "import sys\n",
    "sys.path.append(r\"C:\\Users\\egbonsisi\\ControllerPlacementCodes\\Skoltech-PhD-Thesis\\_codes\\SIR\\Influential-nodes-identification-in-complex-networks-via-information-entropy\")\n",
    "from algorithms import *\n",
    "import matplotlib.pyplot as plt\n",
    "import numpy as np\n",
    "from tqdm import tqdm\n",
    "import pickle"
   ]
  },
  {
   "cell_type": "code",
   "execution_count": 2,
   "metadata": {},
   "outputs": [],
   "source": [
    "data = 'topo'# 'amazon'\n",
    "data_file = data\n",
    "G = clean_data(data_file)"
   ]
  },
  {
   "cell_type": "code",
   "execution_count": 3,
   "metadata": {},
   "outputs": [
    {
     "name": "stdout",
     "output_type": "stream",
     "text": [
      "[27, 3, 14, 7, 10, 17]\n"
     ]
    }
   ],
   "source": [
    "r = [0.8, 0.1, 0.4, 0.2, 0.3, 0.5]\n",
    "topk_list = [round(nx.number_of_nodes(G) * k) for k in r]\n",
    "print(topk_list)"
   ]
  },
  {
   "cell_type": "code",
   "execution_count": 4,
   "metadata": {},
   "outputs": [
    {
     "name": "stdout",
     "output_type": "stream",
     "text": [
      "[('27', 0.9985005730418679), ('5', 0.7549436527724699), ('12', 0.75434887813017), ('28', 0.6538494099071029), ('2', 0.5865976594398602)] \n",
      " ...... \n",
      " [('27', 0.9985005730418679), ('5', 0.7549436527724699), ('12', 0.75434887813017), ('28', 0.6538494099071029), ('2', 0.5865976594398602), ('8', -0.050453003066369795), ('29', -0.08741203815217125), ('11', -0.09476383267522936), ('33', -0.1785220459582076), ('16', -0.17915011452858887), ('22', -0.21433411540053987), ('14', -0.26103242352740835), ('24', -0.2741646003757832), ('26', -0.3314800344449304), ('7', -0.34776492282853405), ('21', -0.4675182149424362), ('6', -0.5222256043810737), ('23', -0.6131195019583244), ('13', -0.657028903456349), ('32', -0.7094072525888995), ('3', -0.7305873447843267), ('34', -0.7897546865705557), ('15', -0.7933125112241983), ('31', -0.7953706107202866), ('25', -0.797530665360725), ('17', -0.79836359602605), ('19', -0.8073718135156049), ('10', -0.8165377332519864), ('9', -0.8454161947787605), ('4', -0.8715703385708794), ('20', -0.9550771860241506), ('30', -0.9929587931832465), ('1', -0.9981899589485623), ('18', -0.9985005730418679)]\n"
     ]
    }
   ],
   "source": [
    "geo_loc_data = get_geo_data(\"Internet2LatLong.csv\")\n",
    "edge_geo_data_combined = assign_location(G, geo_loc_data)\n",
    "# set edge attributes\n",
    "set_edge_attr(G, edge_geo_data_combined)\n",
    "# obtain the node degrees and edges weights to desired lengths\n",
    "tmp_t = list(range(1, 5))\n",
    "tmp_t_SN, tmp_t_hub = hubs_SN_NS(G, tmp_t)\n",
    "# unpack the nodes and edges\n",
    "tmp_t_SN_1, tmp_t_SN_2, tmp_t_SN_3, tmp_t_SN_4 = tmp_t_SN\n",
    "tmp_t_hub_1, tmp_t_hub_2, tmp_t_hub_3, tmp_t_hub_4 = tmp_t_hub\n",
    "# determine variables values\n",
    "k_max, k_min, k_2_max, k_2_min, sigma, delta = maxi_mini(\n",
    "    tmp_t_SN_1[1], tmp_t_hub_2[2])\n",
    "# assign various probability weights\n",
    "w_d_h, w_d_2_h, w_d_l, w_d_2_l, w_d_t, w_d_2_t = probability_weights(\n",
    "    tmp_t_SN_1[1], tmp_t_hub_2[2], k_max, k_min, k_2_max, k_2_min, sigma, delta)\n",
    "# combine into a dictionary\n",
    "combined_dict, combined_dict_k_2 = covert_to_dict(\n",
    "    w_d_h, w_d_l, w_d_t), covert_to_dict(w_d_2_h, w_d_2_l, w_d_2_t)\n",
    "# print(combined_dict, \"\\n ...... \\n\", combined_dict_k_2)\n",
    "\n",
    "# Get ranked result\n",
    "opti_rank, ranked_nodes = rank_result(combined_dict, combined_dict_k_2)\n",
    "\n",
    "print(opti_rank, \"\\n ...... \\n\", ranked_nodes)\n"
   ]
  },
  {
   "cell_type": "code",
   "execution_count": 5,
   "metadata": {},
   "outputs": [
    {
     "name": "stdout",
     "output_type": "stream",
     "text": [
      "7\n",
      "done!\n",
      "done!\n",
      "done!\n",
      "done!\n",
      "done!\n"
     ]
    },
    {
     "data": {
      "text/plain": [
       "0.2"
      ]
     },
     "execution_count": 5,
     "metadata": {},
     "output_type": "execute_result"
    }
   ],
   "source": [
    "max_ = r[3]\n",
    "max_topk = round(max_ * nx.number_of_nodes(G))\n",
    "print(max_topk)\n",
    "\n",
    "degreerank = degree(G, max_topk)\n",
    "print('done!')\n",
    "degreerank_non = degree_non(G, max_topk)\n",
    "print('done!')\n",
    "\n",
    "# vote = voterank(G, max_topk)\n",
    "# print('done!')\n",
    "# vote_non = voterank_non(G, max_topk)\n",
    "# print('done!')\n",
    "\n",
    "newmethod_rank = EnRenewRank(G, max_topk, 2)\n",
    "print('done!')\n",
    "\n",
    "kshell_rank = kshell(G, max_topk)\n",
    "print('done!')\n",
    "kshell_rank_non = kshell_non(G, max_topk)\n",
    "print('done!')\n",
    "max_"
   ]
  },
  {
   "cell_type": "markdown",
   "metadata": {},
   "source": [
    "## compute the average shortest path in the initial node set"
   ]
  },
  {
   "cell_type": "code",
   "execution_count": 6,
   "metadata": {},
   "outputs": [
    {
     "name": "stdout",
     "output_type": "stream",
     "text": [
      "[4.476190476190476, 3.6666666666666665, 4.476190476190476, 4.476190476190476, 4.476190476190476, 4.476190476190476] [4.327635327635328, 5.333333333333333, 4.032967032967033, 4.571428571428571, 4.4, 4.139705882352941]\n"
     ]
    }
   ],
   "source": [
    "degree_ls = [get_ls(G, [x[0] for x in degreerank[:k]]) for k in topk_list]\n",
    "degree_non_ls = [get_ls(G, [x[0] for x in degreerank_non[:k]]) for k in topk_list]\n",
    "# voterank_ls = []\n",
    "# voterank_non_ls = []\n",
    "new_methed_ls = [get_ls(G, [x[0] for x in newmethod_rank[:k]]) for k in topk_list]\n",
    "# new_methed_non_ls = []\n",
    "kshell_ls = [get_ls(G, [x[0] for x in kshell_rank[:k]]) for k in topk_list]\n",
    "kshell_non_ls = [get_ls(G, [x[0] for x in kshell_rank_non[:k]]) for k in topk_list]\n",
    "evbrM_ls = [get_ls(G, [x[0] for x in ranked_nodes[:k]])for k in topk_list]\n",
    "# evbrM_ls\n",
    "print(kshell_non_ls, evbrM_ls)\n"
   ]
  },
  {
   "cell_type": "code",
   "execution_count": 13,
   "metadata": {},
   "outputs": [
    {
     "ename": "NameError",
     "evalue": "name 'degree_ls' is not defined",
     "output_type": "error",
     "traceback": [
      "\u001b[1;31m---------------------------------------------------------------------------\u001b[0m",
      "\u001b[1;31mNameError\u001b[0m                                 Traceback (most recent call last)",
      "\u001b[1;32m<ipython-input-13-17a6ce217301>\u001b[0m in \u001b[0;36m<module>\u001b[1;34m\u001b[0m\n\u001b[0;32m      1\u001b[0m \u001b[0mget_ipython\u001b[0m\u001b[1;33m(\u001b[0m\u001b[1;33m)\u001b[0m\u001b[1;33m.\u001b[0m\u001b[0mrun_line_magic\u001b[0m\u001b[1;33m(\u001b[0m\u001b[1;34m'matplotlib'\u001b[0m\u001b[1;33m,\u001b[0m \u001b[1;34m'inline'\u001b[0m\u001b[1;33m)\u001b[0m\u001b[1;33m\u001b[0m\u001b[1;33m\u001b[0m\u001b[0m\n\u001b[0;32m      2\u001b[0m \u001b[0mplt\u001b[0m\u001b[1;33m.\u001b[0m\u001b[0mtitle\u001b[0m\u001b[1;33m(\u001b[0m\u001b[1;34m'network:{} '\u001b[0m\u001b[1;33m.\u001b[0m\u001b[0mformat\u001b[0m\u001b[1;33m(\u001b[0m\u001b[0mdata_file\u001b[0m\u001b[1;33m)\u001b[0m\u001b[1;33m)\u001b[0m\u001b[1;33m\u001b[0m\u001b[1;33m\u001b[0m\u001b[0m\n\u001b[1;32m----> 3\u001b[1;33m \u001b[0mplt\u001b[0m\u001b[1;33m.\u001b[0m\u001b[0mplot\u001b[0m\u001b[1;33m(\u001b[0m\u001b[0mnp\u001b[0m\u001b[1;33m.\u001b[0m\u001b[0marray\u001b[0m\u001b[1;33m(\u001b[0m\u001b[0mtopk_list\u001b[0m\u001b[1;33m)\u001b[0m \u001b[1;33m/\u001b[0m \u001b[0mnx\u001b[0m\u001b[1;33m.\u001b[0m\u001b[0mnumber_of_nodes\u001b[0m\u001b[1;33m(\u001b[0m\u001b[0mG\u001b[0m\u001b[1;33m)\u001b[0m\u001b[1;33m,\u001b[0m \u001b[0mdegree_ls\u001b[0m\u001b[1;33m,\u001b[0m \u001b[1;34m'r-o'\u001b[0m\u001b[1;33m,\u001b[0m \u001b[0mlabel\u001b[0m\u001b[1;33m=\u001b[0m\u001b[1;34m'degree'\u001b[0m\u001b[1;33m,\u001b[0m \u001b[0mlinewidth\u001b[0m\u001b[1;33m=\u001b[0m\u001b[1;36m1.0\u001b[0m\u001b[1;33m,\u001b[0m \u001b[1;33m)\u001b[0m\u001b[1;33m\u001b[0m\u001b[1;33m\u001b[0m\u001b[0m\n\u001b[0m\u001b[0;32m      4\u001b[0m \u001b[1;31m#plt.plot(np.array(topk_list) / nx.number_of_nodes(G), degree_non_ls, 'r--o', label='degree_non', linewidth=1.0, )\u001b[0m\u001b[1;33m\u001b[0m\u001b[1;33m\u001b[0m\u001b[1;33m\u001b[0m\u001b[0m\n\u001b[0;32m      5\u001b[0m \u001b[1;31m#plt.plot(np.array(topk_list) / nx.number_of_nodes(G), voterank_ls, 'y-s', label='vote', linewidth=1.0, )\u001b[0m\u001b[1;33m\u001b[0m\u001b[1;33m\u001b[0m\u001b[1;33m\u001b[0m\u001b[0m\n",
      "\u001b[1;31mNameError\u001b[0m: name 'degree_ls' is not defined"
     ]
    },
    {
     "data": {
      "image/png": "[encoded data removed]",
      "text/plain": [
       "<Figure size 432x288 with 1 Axes>"
      ]
     },
     "metadata": {
      "needs_background": "light"
     },
     "output_type": "display_data"
    }
   ],
   "source": [
    "%matplotlib inline\n",
    "plt.title('network:{} '.format(data_file))\n",
    "plt.plot(np.array(topk_list) / nx.number_of_nodes(G), degree_ls, 'r-o', label='degree', linewidth=1.0, )\n",
    "#plt.plot(np.array(topk_list) / nx.number_of_nodes(G), degree_non_ls, 'r--o', label='degree_non', linewidth=1.0, )\n",
    "#plt.plot(np.array(topk_list) / nx.number_of_nodes(G), voterank_ls, 'y-s', label='vote', linewidth=1.0, )\n",
    "#plt.plot(np.array(topk_list) / nx.number_of_nodes(G), voterank_non_ls, 'y--s', label='vote_non', linewidth=1.0, )\n",
    "#plt.plot(np.array(topk_list) / nx.number_of_nodes(G), kshell_ls, 'g-p', label='kshell', linewidth=1.0, )\n",
    "#plt.plot(np.array(topk_list) / nx.number_of_nodes(G), kshell_non_ls, 'g--p', label='kshell_non', linewidth=1.0, )\n",
    "#plt.plot(np.array(topk_list) / nx.number_of_nodes(G), new_methed_ls, 'b-^', label='EnRenew', linewidth=1.0, )\n",
    "# plt.plot(np.array(topk_list) / nx.number_of_nodes(G), new_methed_non_ls, 'b--^', label='EnRenew_non', linewidth=1.0, )\n",
    "#plt.plot(np.array(topk_list) / nx.number_of_nodes(G), evbrM_ls, 'c--o', label='evbrM', linewidth=1.0, )\n",
    "plt.legend()\n",
    "plt.show()"
   ]
  }
 ],
 "metadata": {
  "interpreter": {
   "hash": "b3ba2566441a7c06988d0923437866b63cedc61552a5af99d1f4fb67d367b25f"
  },
  "kernelspec": {
   "display_name": "Python 3.8.8 64-bit ('base': conda)",
   "name": "python3"
  },
  "language_info": {
   "codemirror_mode": {
    "name": "ipython",
    "version": 3
   },
   "file_extension": ".py",
   "mimetype": "text/x-python",
   "name": "python",
   "nbconvert_exporter": "python",
   "pygments_lexer": "ipython3",
   "version": "3.8.8"
  }
 },
 "nbformat": 4,
 "nbformat_minor": 2
}
