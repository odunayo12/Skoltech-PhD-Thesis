{
 "cells": [
  {
   "cell_type": "code",
   "execution_count": 1,
   "metadata": {},
   "outputs": [],
   "source": [
    "import networkx as nx\n",
    "import sys\n",
    "sys.path.append(r\"C:\\Users\\egbonsisi\\ControllerPlacementCodes\\Skoltech-PhD-Thesis\\_codes\\SIR\\Influential-nodes-identification-in-complex-networks-via-information-entropy\")\n",
    "from algorithms import *\n",
    "import matplotlib.pyplot as plt\n",
    "import numpy as np\n",
    "from tqdm import tqdm\n",
    "import pickle"
   ]
  },
  {
   "cell_type": "code",
   "execution_count": 2,
   "metadata": {},
   "outputs": [
    {
     "name": "stdout",
     "output_type": "stream",
     "text": [
      "34 42\n"
     ]
    }
   ],
   "source": [
    "data_file = 'topo'  # 'HepPh'\n",
    "G = clean_data(data_file)\n",
    "print(nx.number_of_nodes(G), nx.number_of_edges(G))\n"
   ]
  },
  {
   "cell_type": "code",
   "execution_count": 3,
   "metadata": {},
   "outputs": [],
   "source": [
    "geo_loc_data = get_geo_data(\"Internet2LatLong.csv\")\n",
    "edge_geo_data_combined = assign_location(G, geo_loc_data)\n",
    "\n",
    "# set edge attributes\n",
    "set_edge_attr(G, edge_geo_data_combined)"
   ]
  },
  {
   "cell_type": "markdown",
   "metadata": {},
   "source": [
    "### Degree, Two Step Neghbor $D - 2SN$"
   ]
  },
  {
   "cell_type": "code",
   "execution_count": 5,
   "metadata": {},
   "outputs": [],
   "source": [
    "d = [(i, len(n_neighbor(G, i, 1)))\n",
    "          for (i, j) in sorted(list(G.degree()), key=lambda item: int(item[0]))]\n",
    "two_sn = [(i, len(n_neighbor(G, i, 2)))\n",
    "          for (i, j) in sorted(list(G.degree()), key=lambda item: int(item[0]))]\n",
    "combined_dict_d, combined_dict_k_2 = varying_examples(d, two_sn)\n",
    "\n",
    "# Get ranked result\n",
    "opti_rank_m1, ranked_nodes_m1 = rank_result(combined_dict_d, combined_dict_k_2)\n",
    "# opti_rank_m1\n",
    "# ranked_nodes_m1\n"
   ]
  },
  {
   "cell_type": "markdown",
   "metadata": {},
   "source": [
    "### Degree, Two Step Neighbour $D - 2SN$"
   ]
  },
  {
   "cell_type": "code",
   "execution_count": 6,
   "metadata": {},
   "outputs": [],
   "source": [
    "d = [(i, len(n_neighbor(G, i, 1)))\n",
    "          for (i, j) in sorted(list(G.degree()), key=lambda item: int(item[0]))]\n",
    "two_sn = [(i, len(n_neighbor(G, i, 2)))\n",
    "          for (i, j) in sorted(list(G.degree()), key=lambda item: int(item[0]))]\n",
    "combined_dict_d, combined_dict_k_2 = varying_examples(d, two_sn)\n",
    "\n",
    "# Get ranked result\n",
    "opti_rank_m1, ranked_nodes_m1 = rank_result(combined_dict_d, combined_dict_k_2)\n",
    "# opti_rank_m1\n",
    "# ranked_nodes_m1"
   ]
  },
  {
   "cell_type": "code",
   "execution_count": 7,
   "metadata": {},
   "outputs": [],
   "source": [
    "ns_over_d = [(i, sum(hub_information(G, i, 1))/len(n_neighbor(G, i, 1)))\n",
    " for (i, j) in sorted(list(G.degree()), key=lambda item: int(item[0]))]\n",
    "\n",
    "combined_dict, combined_dict_k_2 = varying_examples(ns_over_d, two_sn)\n",
    "\n",
    "# Get ranked result\n",
    "opti_rank_m2, ranked_nodes_m2 = rank_result(combined_dict, combined_dict_k_2)\n",
    "# opti_rank_m2\n",
    "# ranked_nodes_m2\n"
   ]
  },
  {
   "cell_type": "markdown",
   "metadata": {},
   "source": [
    "### $D - WD$"
   ]
  },
  {
   "cell_type": "code",
   "execution_count": 8,
   "metadata": {},
   "outputs": [],
   "source": [
    "w_d = [(i[0],i[1]-(j[1])) for i,j in zip(ns_over_d, two_sn)]\n",
    "combined_dict_w_d, combined_dict_k_w_d = varying_examples(d, w_d)\n",
    "\n",
    "# Get ranked result\n",
    "opti_rank_m3, ranked_nodes_m3 = rank_result(combined_dict_w_d, combined_dict_k_w_d)\n",
    "# opti_rank_m3\n",
    "# ranked_nodes_m3\n"
   ]
  },
  {
   "cell_type": "markdown",
   "metadata": {},
   "source": [
    "### $K - 2SN$"
   ]
  },
  {
   "cell_type": "code",
   "execution_count": 9,
   "metadata": {},
   "outputs": [
    {
     "name": "stdout",
     "output_type": "stream",
     "text": [
      "[('2', 0.8924560648197681), ('12', 0.8890269000591076), ('5', 0.8890145953016483), ('19', 0.3164803288323028), ('6', 0.28003997118089297), ('21', 0.27557553121901623), ('7', 0.2674113211113268), ('24', 0.2632494183212946), ('14', 0.26256299170506336), ('16', 0.2586139378323971), ('11', 0.2550594741496443), ('29', 0.25477132160955585), ('8', 0.2533700070344329), ('28', 0.23626740250246403), ('27', 0.23154649604940625)] ........... [('2', 0.8924560648197681), ('12', 0.8890269000591076), ('5', 0.8890145953016483), ('19', 0.3164803288323028), ('6', 0.28003997118089297), ('21', 0.27557553121901623), ('7', 0.2674113211113268), ('24', 0.2632494183212946), ('14', 0.26256299170506336), ('16', 0.2586139378323971), ('11', 0.2550594741496443), ('29', 0.25477132160955585), ('8', 0.2533700070344329), ('28', 0.23626740250246403), ('27', 0.23154649604940625), ('18', -0.23154649604940625), ('20', -0.2732148544518695), ('4', -0.3097352283586677), ('9', -0.31633744151144133), ('10', -0.3222355994813834), ('17', -0.3253775310215005), ('25', -0.32551261991469366), ('31', -0.3258595597941261), ('15', -0.32618564742170764), ('34', -0.3267393044834973), ('3', -0.3344033617684041), ('32', -0.3365893446148708), ('13', -0.34110719339976525), ('23', -0.34415285397561146), ('26', -0.3554641212349734), ('22', -0.35806193275190856), ('33', -0.35872495345583333), ('1', -0.8875753866019688), ('30', -0.8955449385454708)]\n",
      "15\n"
     ]
    }
   ],
   "source": [
    "# obtain the node degrees and edges weights to desired lengths\n",
    "tmp_t = list(range(1, 5))\n",
    "tmp_t_SN, tmp_t_hub = hubs_SN_NS(G, tmp_t)\n",
    "# tmp_t_SN = [1/x for x in tmp_t_SN[0][1]]\n",
    "combined_dict_m0, combined_dict_k_2 = varying_examples(\n",
    "    tmp_t_SN[0][1], tmp_t_hub[1][2])\n",
    "# print(tmp_t_hub)\n",
    "tmp_t_hub_inverse = [{key:[(k,1/v) for k,v in values] for key, values in x.items()} for x in tmp_t_hub]\n",
    "combined_dict_m0, combined_dict_k_2_inverse = varying_examples(\n",
    "    tmp_t_SN[0][1], tmp_t_hub_inverse[1][2])\n",
    "# print(tmp_t_hub_inverse)\n",
    "# combined_dict_m0 = [{k:}]\n",
    "# Get ranked result\n",
    "opti_rank_m0, ranked_nodes_m0 = rank_result(combined_dict_m0, combined_dict_k_2)\n",
    "opti_rank_m0_inverse, ranked_nodes_m0_inverse = rank_result(combined_dict_m0, combined_dict_k_2_inverse)\n",
    "\n",
    "\n",
    "# print(opti_rank_m0, ranked_nodes_m0)\n",
    "print(opti_rank_m0_inverse,\"...........\", ranked_nodes_m0_inverse)\n",
    "print(len(opti_rank_m0_inverse))\n"
   ]
  },
  {
   "cell_type": "markdown",
   "metadata": {},
   "source": [
    "### Classical Model"
   ]
  },
  {
   "cell_type": "code",
   "execution_count": 10,
   "metadata": {},
   "outputs": [],
   "source": [
    "max_ = 1\n",
    "max_topk = round(max_ * nx.number_of_nodes(G))\n",
    "newmethod_rank = EnRenewRank(G, max_topk, 2)\n"
   ]
  },
  {
   "cell_type": "code",
   "execution_count": 11,
   "metadata": {},
   "outputs": [
    {
     "name": "stdout",
     "output_type": "stream",
     "text": [
      "0.8873239436619718\n"
     ]
    }
   ],
   "source": [
    "infect_prob = compute_probability(G) * 1.5\n",
    "print(infect_prob)\n",
    "atio = 1.5\n",
    "cover_prob = infect_prob / atio\n",
    "avg = 100\n",
    "max_iter = 200000\n"
   ]
  },
  {
   "cell_type": "code",
   "execution_count": 12,
   "metadata": {},
   "outputs": [
    {
     "data": {
      "text/plain": [
       "[7, 14, 22, 27]"
      ]
     },
     "execution_count": 12,
     "metadata": {},
     "output_type": "execute_result"
    }
   ],
   "source": [
    "rates = [0.20, 0.40, 0.65, 0.80]\n",
    "topk_list = list(map(lambda x: round(nx.number_of_nodes(G) * x), rates))\n",
    "topk_list\n"
   ]
  },
  {
   "cell_type": "markdown",
   "metadata": {},
   "source": [
    "### Weighted Degree $WD  - 2SN$\n",
    "$Where  WD = 1/(NS/D)$"
   ]
  },
  {
   "cell_type": "code",
   "execution_count": 13,
   "metadata": {},
   "outputs": [],
   "source": [
    "m0_result = [get_sir_result(G, ranked_nodes_m0, k, avg, infect_prob, cover_prob, max_iter)[-1]/ nx.number_of_nodes(G) for k in topk_list]\n",
    "m1_result = [get_sir_result(G, ranked_nodes_m1, k, avg, infect_prob, cover_prob, max_iter)[-1]/ nx.number_of_nodes(G) for k in topk_list]\n",
    "m2_result = [get_sir_result(G, ranked_nodes_m2, k, avg, infect_prob, cover_prob, max_iter)[-1]/ nx.number_of_nodes(G) for k in topk_list]\n",
    "m3_result = [get_sir_result(G, ranked_nodes_m3, k, avg, infect_prob, cover_prob, max_iter)[-1]/ nx.number_of_nodes(G) for k in topk_list]\n",
    "newmethod_result = [get_sir_result(G,newmethod_rank, k, avg, infect_prob, cover_prob, max_iter)[-1]/ nx.number_of_nodes(G) for k in topk_list]\n",
    "\n"
   ]
  },
  {
   "cell_type": "code",
   "execution_count": 14,
   "metadata": {},
   "outputs": [
    {
     "data": {
      "image/png": "[encoded data removed]",
      "text/plain": [
       "<Figure size 432x288 with 1 Axes>"
      ]
     },
     "metadata": {
      "needs_background": "light"
     },
     "output_type": "display_data"
    }
   ],
   "source": [
    "%matplotlib inline\n",
    "plt.title(f'network:{data_file}   avg:{avg}  i/r:{atio}   infect_prob:{infect_prob}')\n",
    "plt.plot(np.array(topk_list) / nx.number_of_nodes(G), m0_result, 'g--o', label='K-2NS', linewidth=1.0, )\n",
    "# plt.plot(np.array(topk_list) / nx.number_of_nodes(G), m1_result, 'b-o', label='D-2SN', linewidth=1.0, )\n",
    "plt.plot(np.array(topk_list) / nx.number_of_nodes(G), m2_result, 'r--o', label='WD-2SN', linewidth=1.0, )\n",
    "plt.plot(np.array(topk_list) / nx.number_of_nodes(G), m3_result, 'c--o', label='D-WD', linewidth=1.0, )\n",
    "# plt.plot(np.array(topk_list) / nx.number_of_nodes(G), newmethod_result, 'y--o', label='Classical', linewidth=1.0, )\n",
    "plt.legend(loc=\"upper left\")\n",
    "plt.ylabel(\"$F(t_c)$\")\n",
    "plt.xlabel('$p$')\n",
    "plt.show()\n",
    "\n"
   ]
  }
 ],
 "metadata": {
  "interpreter": {
   "hash": "b3ba2566441a7c06988d0923437866b63cedc61552a5af99d1f4fb67d367b25f"
  },
  "kernelspec": {
   "display_name": "Python 3.8.8 64-bit ('base': conda)",
   "name": "python3"
  },
  "language_info": {
   "codemirror_mode": {
    "name": "ipython",
    "version": 3
   },
   "file_extension": ".py",
   "mimetype": "text/x-python",
   "name": "python",
   "nbconvert_exporter": "python",
   "pygments_lexer": "ipython3",
   "version": "3.8.8"
  },
  "orig_nbformat": 4
 },
 "nbformat": 4,
 "nbformat_minor": 2
}
