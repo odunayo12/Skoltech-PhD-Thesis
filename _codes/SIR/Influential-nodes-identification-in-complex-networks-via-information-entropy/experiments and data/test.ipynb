{
 "cells": [
  {
   "cell_type": "code",
   "execution_count": 1,
   "metadata": {},
   "outputs": [],
   "source": [
    "import pickle\n",
    "from tqdm import tqdm\n",
    "import numpy as np\n",
    "# import matplotlib.pyplot as plt\n",
    "import networkx as nx\n",
    "import sys\n",
    "import random\n",
    "sys.path.append(r\"C:\\Users\\egbonsisi\\ControllerPlacementCodes\\Skoltech-PhD-Thesis\\_codes\\SIR\\Influential-nodes-identification-in-complex-networks-via-information-entropy\")\n",
    "from algorithms import *\n"
   ]
  },
  {
   "cell_type": "code",
   "execution_count": 2,
   "metadata": {},
   "outputs": [],
   "source": [
    "data_file = 'CEnew' # 'HepPh'\n",
    "G = nx.read_adjlist(data_file)\n",
    "G.remove_edges_from(nx.selfloop_edges(G))\n",
    "nodes = list(nx.nodes(G))\n",
    "for node in nodes:\n",
    "    if G.degree(node) == 0:\n",
    "        G.remove_node(node)"
   ]
  },
  {
   "cell_type": "code",
   "execution_count": 3,
   "metadata": {},
   "outputs": [
    {
     "name": "stdout",
     "output_type": "stream",
     "text": [
      "453 2025\n"
     ]
    }
   ],
   "source": [
    "print(nx.number_of_nodes(G), nx.number_of_edges(G))"
   ]
  },
  {
   "cell_type": "code",
   "execution_count": 4,
   "metadata": {},
   "outputs": [
    {
     "data": {
      "text/plain": [
       "0.03836535182448562"
      ]
     },
     "execution_count": 4,
     "metadata": {},
     "output_type": "execute_result"
    }
   ],
   "source": [
    "infect_prob = compute_probability(G)*1.5\n",
    "infect_prob"
   ]
  },
  {
   "cell_type": "code",
   "execution_count": 5,
   "metadata": {},
   "outputs": [],
   "source": [
    "atio = 1\n",
    "cover_prob = infect_prob / atio"
   ]
  },
  {
   "cell_type": "code",
   "execution_count": 6,
   "metadata": {},
   "outputs": [],
   "source": [
    "max_iter = 20000"
   ]
  },
  {
   "cell_type": "code",
   "execution_count": 7,
   "metadata": {},
   "outputs": [
    {
     "name": "stdout",
     "output_type": "stream",
     "text": [
      "4\n"
     ]
    }
   ],
   "source": [
    "max_ = 0.009\n",
    "max_topk = round(max_ * nx.number_of_nodes(G))\n",
    "print(max_topk)"
   ]
  },
  {
   "cell_type": "code",
   "execution_count": 8,
   "metadata": {},
   "outputs": [
    {
     "name": "stdout",
     "output_type": "stream",
     "text": [
      "[('15', ' '), ('2', ' '), ('5', ' '), ('97', ' ')]\n",
      "done!\n"
     ]
    }
   ],
   "source": [
    "degreerank = degree(G, max_topk)\n",
    "print(degreerank)\n",
    "print('done!')"
   ]
  },
  {
   "cell_type": "code",
   "execution_count": 9,
   "metadata": {},
   "outputs": [
    {
     "data": {
      "text/plain": [
       "['15', '2', '5', '97']"
      ]
     },
     "execution_count": 9,
     "metadata": {},
     "output_type": "execute_result"
    }
   ],
   "source": [
    "get_topk(degreerank, max_topk)"
   ]
  },
  {
   "cell_type": "code",
   "execution_count": 10,
   "metadata": {},
   "outputs": [
    {
     "name": "stdout",
     "output_type": "stream",
     "text": [
      "(110, {0: 4, 1: 4, 2: 4, 3: 5, 4: 5, 5: 5, 6: 5, 7: 5, 8: 5, 9: 5, 10: 6, 11: 6, 12: 6, 13: 6, 14: 7, 15: 7, 16: 7, 17: 8, 18: 9, 19: 9, 20: 10, 21: 10, 22: 11, 23: 11, 24: 11, 25: 12, 26: 13, 27: 13, 28: 14, 29: 14, 30: 14, 31: 15, 32: 16, 33: 16, 34: 16, 35: 16, 36: 16, 37: 16, 38: 16, 39: 16, 40: 16, 41: 17, 42: 18, 43: 20, 44: 20, 45: 21, 46: 21, 47: 21, 48: 21, 49: 21, 50: 21, 51: 21, 52: 21, 53: 21, 54: 21, 55: 21, 56: 21, 57: 21, 58: 21, 59: 21, 60: 21, 61: 21, 62: 21, 63: 21, 64: 21, 65: 22, 66: 22, 67: 22, 68: 22, 69: 22, 70: 22, 71: 22, 72: 22, 73: 22, 74: 22, 75: 22, 76: 22, 77: 22, 78: 22, 79: 22, 80: 22, 81: 22, 82: 22, 83: 22, 84: 22, 85: 22, 86: 22, 87: 22, 88: 22, 89: 22, 90: 22, 91: 22, 92: 22, 93: 22, 94: 22, 95: 22, 96: 22, 97: 22, 98: 22, 99: 22, 100: 22, 101: 22, 102: 22, 103: 22, 104: 22, 105: 22, 106: 22, 107: 22, 108: 22, 109: 22, 110: 22})\n"
     ]
    }
   ],
   "source": [
    "\n",
    "\n",
    "SIR_sample_result = SIR(G, get_topk(degreerank, max_topk), infect_prob,cover_prob, max_iter)\n",
    "print(SIR_sample_result)"
   ]
  },
  {
   "cell_type": "code",
   "execution_count": 11,
   "metadata": {},
   "outputs": [
    {
     "name": "stdout",
     "output_type": "stream",
     "text": [
      "0.009 4\n"
     ]
    }
   ],
   "source": [
    "# to-get infected set\n",
    "r = 0.009\n",
    "top_k = round(nx.number_of_nodes(G) * r)\n",
    "print(r, top_k)\n",
    "rank = []"
   ]
  },
  {
   "cell_type": "code",
   "execution_count": 12,
   "metadata": {},
   "outputs": [
    {
     "name": "stdout",
     "output_type": "stream",
     "text": [
      "0.0015 1\n",
      "0.003 1\n",
      "0.0045 2\n",
      "0.006 3\n",
      "0.0075 3\n",
      "0.009 4\n",
      "[1, 1, 2, 3, 3, 4]\n"
     ]
    }
   ],
   "source": [
    "r = [0.0015, 0.003, 0.0045, 0.006, 0.0075, 0.009]\n",
    "topk_list = []\n",
    "for k in r:\n",
    "    topk = round(nx.number_of_nodes(G) * k)\n",
    "    print(k, topk)\n",
    "    topk_list.append(topk)\n",
    "\n",
    "print(topk_list)"
   ]
  },
  {
   "cell_type": "code",
   "execution_count": 13,
   "metadata": {},
   "outputs": [
    {
     "name": "stdout",
     "output_type": "stream",
     "text": [
      "4\n",
      "[('15', ' '), ('2', ' '), ('5', ' '), ('97', ' ')]\n"
     ]
    }
   ],
   "source": [
    "max_ = 0.009\n",
    "max_topk = round(max_ * nx.number_of_nodes(G))\n",
    "print(max_topk)\n",
    "\n",
    "degreerank = degree(G, max_topk)\n",
    "print(degreerank)"
   ]
  },
  {
   "cell_type": "code",
   "execution_count": 15,
   "metadata": {},
   "outputs": [
    {
     "name": "stderr",
     "output_type": "stream",
     "text": [
      "100%|██████████| 6/6 [00:00<?, ?it/s]"
     ]
    },
    {
     "name": "stdout",
     "output_type": "stream",
     "text": [
      "['15', '2', '5', '97']\n"
     ]
    },
    {
     "name": "stderr",
     "output_type": "stream",
     "text": [
      "\n"
     ]
    }
   ],
   "source": [
    "#nbrs = nx.neighbors(G, n=G)\n",
    "#infected_prob_set = []\n",
    "for k in tqdm(topk_list):\n",
    "    topk = k\n",
    "infected_prob_set = get_topk(degreerank, topk)\n",
    "print(infected_prob_set)"
   ]
  },
  {
   "cell_type": "code",
   "execution_count": 16,
   "metadata": {},
   "outputs": [
    {
     "name": "stdout",
     "output_type": "stream",
     "text": [
      "15\n",
      "2\n",
      "5\n",
      "97\n",
      "<dict_keyiterator object at 0x000001A300A21180>\n"
     ]
    }
   ],
   "source": [
    "# infected_prob_set\n",
    "\n",
    "for node in infected_prob_set:\n",
    "    nbrs = nx.neighbors(G, node)\n",
    "    print(node)\n",
    "print(nbrs)\n",
    "    # nbr = np.random.choice(nbrs)\n",
    "# print(nbr)"
   ]
  },
  {
   "cell_type": "code",
   "execution_count": 17,
   "metadata": {},
   "outputs": [
    {
     "name": "stdout",
     "output_type": "stream",
     "text": [
      "[0, 1, 2, 3, 4, 5, 6, 7, 8, 9] [10, 11, 12, 13, 14, 15, 16, 17, 18, 19]\n",
      "[[0. 0. 0. 0. 0. 0. 0. 0. 0. 0.]\n",
      " [0. 0. 0. 0. 0. 0. 0. 0. 0. 0.]\n",
      " [0. 0. 0. 0. 0. 0. 0. 0. 0. 0.]\n",
      " [0. 0. 0. 0. 0. 0. 0. 0. 0. 0.]\n",
      " [0. 0. 0. 0. 0. 0. 0. 0. 0. 0.]\n",
      " [0. 0. 0. 0. 0. 0. 0. 0. 0. 0.]\n",
      " [0. 0. 0. 0. 0. 0. 0. 0. 0. 0.]\n",
      " [0. 0. 0. 0. 0. 0. 0. 0. 0. 0.]\n",
      " [0. 0. 0. 0. 0. 0. 0. 0. 0. 0.]\n",
      " [0. 0. 0. 0. 0. 0. 0. 0. 0. 0.]]\n"
     ]
    },
    {
     "data": {
      "text/plain": [
       "array([0., 0., 0., 0., 0., 0., 0., 0., 0., 0.])"
      ]
     },
     "execution_count": 17,
     "metadata": {},
     "output_type": "execute_result"
    }
   ],
   "source": [
    "time_num_dict_list = list(range(10,20))\n",
    "time_list = list(range(0,10))\n",
    "print(time_list, time_num_dict_list)\n",
    "max_time = max(time_list) + 1\n",
    "result_matrix = np.zeros((len(time_num_dict_list), max_time))\n",
    "print(result_matrix)\n",
    "result_matrix[-1]"
   ]
  },
  {
   "cell_type": "code",
   "execution_count": 18,
   "metadata": {},
   "outputs": [
    {
     "name": "stdout",
     "output_type": "stream",
     "text": [
      "(6, 9)\n",
      "[0 0 0]\n",
      "[(1, 2) (4, 3) (6, 9)] (6, 9)\n"
     ]
    },
    {
     "data": {
      "text/plain": [
       "array([(1, 2), (4, 3), (6, 9)], dtype=object)"
      ]
     },
     "execution_count": 18,
     "metadata": {},
     "output_type": "execute_result"
    }
   ],
   "source": [
    "a = [(1,2),(4,3),(6,9)]\n",
    "print(a[-1])\n",
    "a0 = np.zeros(len(a),dtype=object)\n",
    "print(a0)\n",
    "a0[:] = a\n",
    "print(a0, a0[-1])\n",
    "a0"
   ]
  },
  {
   "cell_type": "code",
   "execution_count": 19,
   "metadata": {},
   "outputs": [
    {
     "name": "stdout",
     "output_type": "stream",
     "text": [
      "0 (array([0., 0., 0., 0., 0., 0., 0., 0., 0., 0.]), 10)\n"
     ]
    },
    {
     "ename": "TypeError",
     "evalue": "'int' object is not iterable",
     "output_type": "error",
     "traceback": [
      "\u001b[1;31m---------------------------------------------------------------------------\u001b[0m",
      "\u001b[1;31mTypeError\u001b[0m                                 Traceback (most recent call last)",
      "\u001b[1;32m<ipython-input-19-24d5a4cb9db8>\u001b[0m in \u001b[0;36m<module>\u001b[1;34m\u001b[0m\n\u001b[0;32m      1\u001b[0m \u001b[1;32mfor\u001b[0m \u001b[0mindex\u001b[0m\u001b[1;33m,\u001b[0m \u001b[1;33m(\u001b[0m\u001b[0mrow\u001b[0m\u001b[1;33m,\u001b[0m \u001b[0mtime_num_dict\u001b[0m\u001b[1;33m)\u001b[0m \u001b[1;32min\u001b[0m \u001b[0menumerate\u001b[0m\u001b[1;33m(\u001b[0m\u001b[0mzip\u001b[0m\u001b[1;33m(\u001b[0m\u001b[0mresult_matrix\u001b[0m\u001b[1;33m,\u001b[0m \u001b[0mtime_num_dict_list\u001b[0m\u001b[1;33m)\u001b[0m\u001b[1;33m)\u001b[0m\u001b[1;33m:\u001b[0m\u001b[1;33m\u001b[0m\u001b[1;33m\u001b[0m\u001b[0m\n\u001b[0;32m      2\u001b[0m     \u001b[0mprint\u001b[0m\u001b[1;33m(\u001b[0m\u001b[0mindex\u001b[0m\u001b[1;33m,\u001b[0m \u001b[1;33m(\u001b[0m\u001b[0mrow\u001b[0m\u001b[1;33m,\u001b[0m \u001b[0mtime_num_dict\u001b[0m\u001b[1;33m)\u001b[0m\u001b[1;33m)\u001b[0m\u001b[1;33m\u001b[0m\u001b[1;33m\u001b[0m\u001b[0m\n\u001b[1;32m----> 3\u001b[1;33m     \u001b[0mrow\u001b[0m\u001b[1;33m[\u001b[0m\u001b[1;33m:\u001b[0m\u001b[1;33m]\u001b[0m \u001b[1;33m=\u001b[0m \u001b[0mlist\u001b[0m\u001b[1;33m(\u001b[0m\u001b[0mtime_num_dict\u001b[0m\u001b[1;33m)\u001b[0m\u001b[1;33m[\u001b[0m\u001b[1;33m-\u001b[0m\u001b[1;36m1\u001b[0m\u001b[1;33m]\u001b[0m\u001b[1;33m\u001b[0m\u001b[1;33m\u001b[0m\u001b[0m\n\u001b[0m",
      "\u001b[1;31mTypeError\u001b[0m: 'int' object is not iterable"
     ]
    }
   ],
   "source": [
    "for index, (row, time_num_dict) in enumerate(zip(result_matrix, time_num_dict_list)):\n",
    "    print(index, (row, time_num_dict))\n",
    "    row[:] = list(time_num_dict)[-1]"
   ]
  },
  {
   "cell_type": "code",
   "execution_count": 21,
   "metadata": {},
   "outputs": [
    {
     "name": "stdout",
     "output_type": "stream",
     "text": [
      "0 a1 b1\n",
      "... 1\n",
      "1 a2 b2\n",
      "... 2\n",
      "2 a3 b3\n",
      "... 3\n"
     ]
    }
   ],
   "source": [
    "alist = ['a1', 'a2', 'a3']\n",
    "blist = ['b1', 'b2', 'b3']\n",
    "\n",
    "for i, (a, b) in enumerate(zip(alist, blist)):\n",
    "    print(i, a, b)\n",
    "    print(\"...\",b[-1])"
   ]
  }
 ],
 "metadata": {
  "interpreter": {
   "hash": "6fbcc1c46b50fa8c3c014d13bcb36922c77b78a7a74c0aceb7b86cf3f07e3ecf"
  },
  "kernelspec": {
   "display_name": "Python 3.9.1 64-bit",
   "name": "python3"
  },
  "language_info": {
   "codemirror_mode": {
    "name": "ipython",
    "version": 3
   },
   "file_extension": ".py",
   "mimetype": "text/x-python",
   "name": "python",
   "nbconvert_exporter": "python",
   "pygments_lexer": "ipython3",
   "version": "3.9.1"
  },
  "orig_nbformat": 4
 },
 "nbformat": 4,
 "nbformat_minor": 2
}
