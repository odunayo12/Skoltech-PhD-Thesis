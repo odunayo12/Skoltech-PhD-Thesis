{
 "cells": [
  {
   "cell_type": "code",
   "execution_count": 2,
   "source": [
    "import networkx as nx\r\n",
    "import sys\r\n",
    "sys.path.append(r\"C:\\Users\\egbonsisi\\ControllerPlacementCodes\\Skoltech-PhD-Thesis\\_codes\\SIR\\Influential-nodes-identification-in-complex-networks-via-information-entropy\")\r\n",
    "from algorithms import *\r\n",
    "import matplotlib.pyplot as plt\r\n",
    "import numpy as np\r\n",
    "from tqdm import tqdm\r\n",
    "import pickle"
   ],
   "outputs": [],
   "metadata": {}
  },
  {
   "cell_type": "code",
   "execution_count": 3,
   "source": [
    "# data_file = 'router'\r\n",
    "# G = nx.read_adjlist(data_file)\r\n",
    "# G.remove_edges_from(G.selfloop_edges())\r\n",
    "# for node in nx.nodes(G):\r\n",
    "#     if G.degree(node) == 0:\r\n",
    "#         G.remove_node(node)\r\n",
    "\r\n",
    "data_file = 'CEnew' # 'HepPh'\r\n",
    "G = nx.read_adjlist(data_file)\r\n",
    "G.remove_edges_from(nx.selfloop_edges(G))\r\n",
    "nodes = list(nx.nodes(G))\r\n",
    "for node in nodes:\r\n",
    "    if G.degree(node) == 0:\r\n",
    "        G.remove_node(node)"
   ],
   "outputs": [],
   "metadata": {}
  },
  {
   "cell_type": "code",
   "execution_count": 4,
   "source": [
    "print(nx.number_of_nodes(G), nx.number_of_edges(G))"
   ],
   "outputs": [
    {
     "output_type": "stream",
     "name": "stdout",
     "text": [
      "453 2025\n"
     ]
    }
   ],
   "metadata": {}
  },
  {
   "cell_type": "code",
   "execution_count": 5,
   "source": [
    "max_ = 0.03\r\n",
    "max_topk = round(max_ * nx.number_of_nodes(G))\r\n",
    "print(max_topk)\r\n",
    "degreerank = degree(G, max_topk)\r\n",
    "print('done!')\r\n",
    "degreerank_non = degree_non(G, max_topk)\r\n",
    "print('done!')\r\n",
    "\r\n",
    "# vote = voterank(G, max_topk)\r\n",
    "# print('done!')\r\n",
    "# vote_non = voterank_non(G, max_topk)\r\n",
    "# print('done!')\r\n",
    "\r\n",
    "newmethod_rank = EnRenewRank(G, max_topk, 2)\r\n",
    "print('done!')\r\n",
    "\r\n",
    "kshell_rank = kshell(G, max_topk)\r\n",
    "print('done!')\r\n",
    "kshell_rank_non = kshell_non(G, max_topk)\r\n",
    "print('done!')"
   ],
   "outputs": [
    {
     "output_type": "stream",
     "name": "stdout",
     "text": [
      "14\n",
      "done!\n",
      "done!\n",
      "done!\n",
      "done!\n",
      "done!\n"
     ]
    }
   ],
   "metadata": {}
  },
  {
   "cell_type": "markdown",
   "source": [
    "## SIR Time"
   ],
   "metadata": {}
  },
  {
   "cell_type": "code",
   "execution_count": 6,
   "source": [
    "infect_prob = compute_probability(G) * 1.5\r\n",
    "avg = 100\r\n",
    "max_iter = 200000\r\n",
    "atio = 1.5\r\n",
    "cover_prob = infect_prob / atio\r\n",
    "topk = max_topk\r\n",
    "\r\n",
    "\r\n",
    "degreerank_result = get_sir_result(G, degreerank, topk, avg, infect_prob, cover_prob, max_iter) / nx.number_of_nodes(G)\r\n",
    "print('done!')\r\n",
    "degreerank_non_result = get_sir_result(G, degreerank_non, topk, avg, infect_prob, cover_prob, max_iter) / nx.number_of_nodes(G)\r\n",
    "print('done!')\r\n",
    "# voterank_result = get_sir_result(G, vote, topk, avg, infect_prob, cover_prob, max_iter) / nx.number_of_nodes(G)\r\n",
    "# print('done!')\r\n",
    "# voterank_non_result = get_sir_result(G, vote_non, topk, avg, infect_prob, cover_prob, max_iter) / nx.number_of_nodes(G)\r\n",
    "# print('done!')\r\n",
    "newmethod_result = get_sir_result(G, newmethod_rank, topk, avg, infect_prob, cover_prob, max_iter) / nx.number_of_nodes(G)\r\n",
    "print('done!')\r\n",
    "kshell_result = get_sir_result(G, kshell_rank, topk, avg, infect_prob, cover_prob, max_iter) / nx.number_of_nodes(G)\r\n",
    "print('done!')\r\n",
    "kshell_non_result = get_sir_result(G, kshell_rank_non, topk, avg, infect_prob, cover_prob, max_iter) / nx.number_of_nodes(G)\r\n",
    "print('done!')"
   ],
   "outputs": [
    {
     "output_type": "stream",
     "name": "stdout",
     "text": [
      "done!\n",
      "done!\n",
      "done!\n",
      "done!\n",
      "done!\n"
     ]
    }
   ],
   "metadata": {}
  },
  {
   "cell_type": "code",
   "execution_count": 7,
   "source": [
    "max_len = max([len(degreerank_result),\r\n",
    "                len(degreerank_non_result),\r\n",
    "                # len(voterank_result),\r\n",
    "                # len(voterank_non_result),\r\n",
    "                len(newmethod_result),\r\n",
    "                #len(newmethod_non_result),\r\n",
    "                len(kshell_result),\r\n",
    "                len(kshell_non_result)])"
   ],
   "outputs": [],
   "metadata": {}
  },
  {
   "cell_type": "code",
   "execution_count": 8,
   "source": [
    "degreerank_array = np.ones(max_len) * degreerank_result[-1]\r\n",
    "degreerank_non_array = np.ones(max_len) * degreerank_non_result[-1]\r\n",
    "# voterank_array = np.ones(max_len) * voterank_result[-1]\r\n",
    "# voterank_non_array = np.ones(max_len) * voterank_non_result[-1]\r\n",
    "newmethod_array = np.ones(max_len) * newmethod_result[-1]\r\n",
    "kshell_array = np.ones(max_len) * kshell_result[-1]\r\n",
    "kshell_non_array = np.ones(max_len) * kshell_non_result[-1]\r\n",
    "\r\n",
    "degreerank_array[:len(degreerank_result)] = degreerank_result\r\n",
    "degreerank_non_array[:len(degreerank_non_result)] = degreerank_non_result\r\n",
    "# voterank_array[:len(voterank_result)] = voterank_result\r\n",
    "# voterank_non_array[:len(voterank_non_result)] = voterank_non_result\r\n",
    "newmethod_array[:len(newmethod_result)] = newmethod_result\r\n",
    "kshell_array[:len(kshell_result)] = kshell_result\r\n",
    "kshell_non_array[:len(kshell_non_result)] = kshell_non_result"
   ],
   "outputs": [],
   "metadata": {}
  },
  {
   "cell_type": "code",
   "execution_count": 10,
   "source": [
    "%matplotlib inline\r\n",
    "plt.title('network:{}   avg:{}  max:{}   infect_prob:{}'.format(data_file, avg, max_, infect_prob))\r\n",
    "plt.plot(np.array(range(max_len)), degreerank_array, 'r-', label='degree', linewidth=1.0, )\r\n",
    "plt.plot(np.array(range(max_len)), degreerank_non_array, 'r--', label='degree_non', linewidth=1.0, )\r\n",
    "# plt.plot(np.array(range(max_len)), voterank_array, 'y-', label='vote', linewidth=1.0, )\r\n",
    "# plt.plot(np.array(range(max_len)), voterank_non_array, 'y--', label='vote_non', linewidth=1.0, )\r\n",
    "plt.plot(np.array(range(max_len)), newmethod_array, 'b-', label='EnRenew', linewidth=1.0, )\r\n",
    "plt.plot(np.array(range(max_len)), kshell_array, 'g-', label='kshell', linewidth=1.0, )\r\n",
    "plt.plot(np.array(range(max_len)), kshell_non_array, 'g--', label='kshell_non', linewidth=1.0, )\r\n",
    "plt.legend()\r\n",
    "plt.show()"
   ],
   "outputs": [
    {
     "output_type": "display_data",
     "data": {
      "image/png": "[encoded data removed]",
      "text/plain": [
       "<Figure size 432x288 with 1 Axes>"
      ]
     },
     "metadata": {
      "needs_background": "light"
     }
    }
   ],
   "metadata": {
    "scrolled": false
   }
  },
  {
   "cell_type": "code",
   "execution_count": null,
   "source": [],
   "outputs": [],
   "metadata": {}
  }
 ],
 "metadata": {
  "kernelspec": {
   "name": "python3",
   "display_name": "Python 3.9.1 64-bit"
  },
  "language_info": {
   "codemirror_mode": {
    "name": "ipython",
    "version": 3
   },
   "file_extension": ".py",
   "mimetype": "text/x-python",
   "name": "python",
   "nbconvert_exporter": "python",
   "pygments_lexer": "ipython3",
   "version": "3.9.1"
  },
  "interpreter": {
   "hash": "6fbcc1c46b50fa8c3c014d13bcb36922c77b78a7a74c0aceb7b86cf3f07e3ecf"
  }
 },
 "nbformat": 4,
 "nbformat_minor": 2
}